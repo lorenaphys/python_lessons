{
 "cells": [
  {
   "cell_type": "markdown",
   "id": "d6d000b4",
   "metadata": {},
   "source": [
    "# Bucles"
   ]
  },
  {
   "cell_type": "markdown",
   "id": "c041b138",
   "metadata": {},
   "source": [
    "## While "
   ]
  },
  {
   "cell_type": "markdown",
   "id": "dc22c20e",
   "metadata": {},
   "source": [
    "En esta clase veremos cómo construir un bucle, es decir, un bloque de código el cual va a realizar una acción múltiples veces, hasta que se cumpla cierta condición."
   ]
  },
  {
   "cell_type": "markdown",
   "id": "1ae4e9ac",
   "metadata": {},
   "source": [
    "En el caso del bucle **while**, vamos a tener una condición que, mientras sea verdadera, se va a repetir la acción que indiquemos. La sintaxis para este bucle es la siguiente:"
   ]
  },
  {
   "cell_type": "markdown",
   "id": "8d6ec40a",
   "metadata": {},
   "source": [
    "while condicion:\n",
    "    expresion\n",
    "expresion2"
   ]
  },
  {
   "cell_type": "markdown",
   "id": "456173c7",
   "metadata": {},
   "source": [
    "Vemos que el espacio para el cuerpo del código se mantiene, así que todas las indicaciones que mantengan esta sangría, se harán en el ciclo while."
   ]
  },
  {
   "cell_type": "markdown",
   "id": "20027867",
   "metadata": {},
   "source": [
    "Pongamos el siguiente ejemplo, supongamos que queremos dividir un número entre 4 una y otra vez hasta que el resultado sea menor a 1:"
   ]
  },
  {
   "cell_type": "code",
   "execution_count": null,
   "id": "e2d163ab",
   "metadata": {},
   "outputs": [],
   "source": [
    "x = 50\n",
    "while x > 1:\n",
    "    x = x/4\n",
    "    print(x)"
   ]
  },
  {
   "cell_type": "markdown",
   "id": "02dc9f03",
   "metadata": {},
   "source": [
    "**Nota**: Cuando estamos trabajando con bucles, debemos ser cuidadosos de que la condición en algún momento se vuelva falsa, si no, nuestro bucle será infinito, si esto sucede, y si estamos trabajando en algún editor de código como VS Code, hay que presionar **CTRL + C**; en caso de que estés trabajando en un notebook, te vas sección **Kernel** de la barra superior, y eliges la opción **Interrupt** para interrumpir el programa."
   ]
  },
  {
   "cell_type": "code",
   "execution_count": null,
   "id": "87910e4c",
   "metadata": {},
   "outputs": [],
   "source": [
    "x = 50\n",
    "while x > 1:\n",
    "    #x = x/4\n",
    "    print(x)"
   ]
  },
  {
   "cell_type": "markdown",
   "id": "b99205a0",
   "metadata": {},
   "source": [
    "## For "
   ]
  },
  {
   "cell_type": "markdown",
   "id": "0103b969",
   "metadata": {},
   "source": [
    "Este bucle va a realizar iteraciones de acuerdo a una secuencia dada, consta de dos parámetros principales, la **variable** y la **secuencia**, su sintaxis es la siguiente:"
   ]
  },
  {
   "cell_type": "markdown",
   "id": "867cb951",
   "metadata": {},
   "source": [
    "for variable in secuencia:\n",
    "    expresion"
   ]
  },
  {
   "cell_type": "markdown",
   "id": "39f90176",
   "metadata": {},
   "source": [
    "Como ejemplo, manipulemos una lista, primero sin el ciclo for, para ver el potencial de trabajar con este bucle. Tenemos una lista de 4 elementos, la cual indica la estatura de los miembros de una familia:"
   ]
  },
  {
   "cell_type": "code",
   "execution_count": null,
   "id": "11ee44f2",
   "metadata": {},
   "outputs": [],
   "source": [
    "fam = [1.73,1.68,1.71,1.89]"
   ]
  },
  {
   "cell_type": "markdown",
   "id": "bb5835f2",
   "metadata": {},
   "source": [
    "Si queremos imprimir cada uno de los valores de esta lista, podemos indicar 4 veces la orden:"
   ]
  },
  {
   "cell_type": "code",
   "execution_count": null,
   "id": "e4824a22",
   "metadata": {},
   "outputs": [],
   "source": [
    "print(fam[0])\n",
    "print(fam[1])\n",
    "print(fam[2])\n",
    "print(fam[3])"
   ]
  },
  {
   "cell_type": "markdown",
   "id": "70416138",
   "metadata": {},
   "source": [
    "Esto no es eficiente cuando estamos manipulando listas más largas, para ello es mejor usar un ciclo **for**, en este caso, podemos usar como secuencia a **fam**, y en cada iteración podremos manipular a sus elementos. El nombre de la variable (o iterador) que recorre a la secuencia puede tener el nombre que sea, en este caso para que sea más claro que estamos la información que tenemos en la lista es la altura de varias personas, la llamaremos **altura**, entonces la sintaxis es la siguiente:"
   ]
  },
  {
   "cell_type": "code",
   "execution_count": null,
   "id": "2f5adfd2",
   "metadata": {},
   "outputs": [],
   "source": [
    "for altura in fam:\n",
    "    print(altura)"
   ]
  },
  {
   "cell_type": "markdown",
   "id": "e0f3fed1",
   "metadata": {},
   "source": [
    "Vemos que se han impreso los 4 valores contenidos en la lista con sólo dos líneas de código, así que cada que sea posible, hay que recurrir a los ciclos en vez de escribir una línea de código para cada objeto que queremos manipular."
   ]
  },
  {
   "cell_type": "markdown",
   "id": "9c5d05dd",
   "metadata": {},
   "source": [
    "Hay casos en los que vamos a necesitar tanto al elemento contenido en nuestra secuencia, como a su correspondiente índice, en estos casos, hay que aplicar a la secuencia la función **enumerate**, cuando se utiliza esta función, se tienen que definir dos iteradores, uno que indique el índice y otro que indique el elemento de la secuencia correspondiente. Por ejemplo, vamos a imprimir de nuevo la altura de cada uno de los integrantes en **fam**, esta vez indicando con texto el índice correspondiente:"
   ]
  },
  {
   "cell_type": "code",
   "execution_count": null,
   "id": "1566621d",
   "metadata": {},
   "outputs": [],
   "source": [
    "for indice, altura in enumerate(fam):\n",
    "    print('Para el índice ' + str(indice) + ', la altura es: ' + str(altura) + ' m.')"
   ]
  },
  {
   "cell_type": "markdown",
   "id": "b3e5fdb9",
   "metadata": {},
   "source": [
    "**for** no sólo trabaja con listas, podemos usar este bucle para que itere con cada uno de los carácteres de una cadena:"
   ]
  },
  {
   "cell_type": "code",
   "execution_count": null,
   "id": "b533a700",
   "metadata": {},
   "outputs": [],
   "source": [
    "for c in 'familia':\n",
    "    print(c.capitalize())"
   ]
  },
  {
   "cell_type": "markdown",
   "id": "e068ce17",
   "metadata": {},
   "source": [
    "Ya vimos que podemos aplicar el bucle **for** sobre listas y cadenas, pero, qué hay de los otros tipos de objetos, como diccionarios y arreglos? Bueno, en este caso la estructura es la misma, con la diferencia de que la forma en que se define a la secuencia sobre la que sea hace la iteración, se escribe diferente de acuerdo al objeto con el que estamos trabajando."
   ]
  },
  {
   "cell_type": "markdown",
   "id": "d92c9847",
   "metadata": {},
   "source": [
    "### Diccionarios "
   ]
  },
  {
   "cell_type": "markdown",
   "id": "6f447d14",
   "metadata": {},
   "source": [
    "Retomemos el diccionario **mundo**:"
   ]
  },
  {
   "cell_type": "code",
   "execution_count": null,
   "id": "a394e409",
   "metadata": {},
   "outputs": [],
   "source": [
    "mundo = {'afganistan':30.55, 'albania':2.77, 'algeria':39.21}"
   ]
  },
  {
   "cell_type": "code",
   "execution_count": null,
   "id": "fa17b99f",
   "metadata": {},
   "outputs": [],
   "source": [
    "mundo"
   ]
  },
  {
   "cell_type": "markdown",
   "id": "9e093284",
   "metadata": {},
   "source": [
    "Cuando estamos manipulando un diccionario podemos hacer varias cosas, acceder sólo a las claves, sólo a los valores o acceder a los dos al mismo tiempo. A continuación se muestran las tres opciones:"
   ]
  },
  {
   "cell_type": "markdown",
   "id": "cde5d66c",
   "metadata": {},
   "source": [
    "#### keys:"
   ]
  },
  {
   "cell_type": "code",
   "execution_count": null,
   "id": "76be559e",
   "metadata": {},
   "outputs": [],
   "source": [
    "for pais in mundo.keys():\n",
    "    print(pais)"
   ]
  },
  {
   "cell_type": "markdown",
   "id": "d16eda43",
   "metadata": {},
   "source": [
    "#### values: "
   ]
  },
  {
   "cell_type": "code",
   "execution_count": null,
   "id": "da134809",
   "metadata": {},
   "outputs": [],
   "source": [
    "for poblacion in mundo.values():\n",
    "    print(poblacion)"
   ]
  },
  {
   "cell_type": "markdown",
   "id": "275b0706",
   "metadata": {},
   "source": [
    "#### Ambos:"
   ]
  },
  {
   "cell_type": "code",
   "execution_count": null,
   "id": "b806f934",
   "metadata": {},
   "outputs": [],
   "source": [
    "for pais, poblacion in mundo.items():\n",
    "    print(pais.capitalize() + ' tiene una población de ' + str(poblacion) + ' millones de habitantes.')"
   ]
  },
  {
   "cell_type": "markdown",
   "id": "c29e51cb",
   "metadata": {},
   "source": [
    "Recordemos que en este diccionario las claves son objetos tipo cadena, mientras que los valores son flotantes, por eso a estos últimos se les tuvo que aplicar la función **str()**."
   ]
  },
  {
   "cell_type": "markdown",
   "id": "f5a7820d",
   "metadata": {},
   "source": [
    "## Numpy: "
   ]
  },
  {
   "cell_type": "markdown",
   "id": "65b447c9",
   "metadata": {},
   "source": [
    "Utilicemos como ejemplo un arreglo 2D:"
   ]
  },
  {
   "cell_type": "code",
   "execution_count": null,
   "id": "8c0c08a4",
   "metadata": {},
   "outputs": [],
   "source": [
    "import numpy as np"
   ]
  },
  {
   "cell_type": "code",
   "execution_count": null,
   "id": "ecce9034",
   "metadata": {},
   "outputs": [],
   "source": [
    "altura = np.array([1.73,1.68,1.71,1.89,1.79])\n",
    "peso = np.array([65.4,59.2,63.6,88.4,68.7])"
   ]
  },
  {
   "cell_type": "code",
   "execution_count": null,
   "id": "a4f41530",
   "metadata": {},
   "outputs": [],
   "source": [
    "datos = np.array([altura,peso])"
   ]
  },
  {
   "cell_type": "code",
   "execution_count": null,
   "id": "198b376b",
   "metadata": {},
   "outputs": [],
   "source": [
    "for val in datos:\n",
    "    print(val)"
   ]
  },
  {
   "cell_type": "markdown",
   "id": "8b95e406",
   "metadata": {},
   "source": [
    "Aquí, Python considera a cada uno de los subarreglos como elementos de la secuencia. Para acceder a cada uno de los elementos de los subarreglos podemos usar la función **np.nditer()** sobre la secuencia."
   ]
  },
  {
   "cell_type": "code",
   "execution_count": null,
   "id": "e58ebea6",
   "metadata": {},
   "outputs": [],
   "source": [
    "for val in np.nditer(datos):\n",
    "    print(val)"
   ]
  },
  {
   "cell_type": "markdown",
   "id": "26beb570",
   "metadata": {},
   "source": [
    "### DataFrame"
   ]
  },
  {
   "cell_type": "code",
   "execution_count": null,
   "id": "af720fcb",
   "metadata": {},
   "outputs": [],
   "source": [
    "import pandas as pd"
   ]
  },
  {
   "cell_type": "code",
   "execution_count": null,
   "id": "34e51168",
   "metadata": {},
   "outputs": [],
   "source": [
    "ejemplo_pd = pd.read_csv(\n",
    "    '/home/lorena/Escritorio/Fossion/Trabajo_durante_doctorado/Proyecto_con_Luis_Mnez/Fisica_Biologica_2022-1/ejemplo_pandas.csv', encoding=\"utf-8\")"
   ]
  },
  {
   "cell_type": "code",
   "execution_count": null,
   "id": "3956e862",
   "metadata": {},
   "outputs": [],
   "source": [
    "ejemplo_pd.index = ['BR','RU','IN','CH','SA']"
   ]
  },
  {
   "cell_type": "code",
   "execution_count": null,
   "id": "2120b320",
   "metadata": {},
   "outputs": [],
   "source": [
    "ejemplo_pd"
   ]
  },
  {
   "cell_type": "markdown",
   "id": "14ac71bf",
   "metadata": {},
   "source": [
    "Usando la siguiente sintaxis:"
   ]
  },
  {
   "cell_type": "code",
   "execution_count": null,
   "id": "93029bc7",
   "metadata": {},
   "outputs": [],
   "source": [
    "for val in ejemplo_pd:\n",
    "    print(val)"
   ]
  },
  {
   "cell_type": "markdown",
   "id": "e88816e7",
   "metadata": {},
   "source": [
    "Lo que obtuvimos fueron sólo los nombres de las columnas. En pandas, tenemos que especificar que queremos hacer la iteración sobre las filas."
   ]
  },
  {
   "cell_type": "markdown",
   "id": "4985fc16",
   "metadata": {},
   "source": [
    "Para esto, usamos el método **iterrows** sobre **ejemplo_pandas**, con esto, con cada iteración tendremos dos piezas de datos, una que indica la etiqueta de la fila y la otra con la información de la correspondiente fila, todo a como un objeto Series de pandas:"
   ]
  },
  {
   "cell_type": "code",
   "execution_count": null,
   "id": "f14634a6",
   "metadata": {},
   "outputs": [],
   "source": [
    "for fila, info in ejemplo_pd.iterrows():\n",
    "    #print(fila)\n",
    "    print(info)"
   ]
  },
  {
   "cell_type": "markdown",
   "id": "37031058",
   "metadata": {},
   "source": [
    "**Nota**: Si queremos la información de cada una de las filas es necesario usar este método, y siempre se deben indicar dos iteradores en la cabecera del bucle, pero no es necesario que se manipulen a los dos iteradores:"
   ]
  },
  {
   "cell_type": "code",
   "execution_count": null,
   "id": "452f387e",
   "metadata": {},
   "outputs": [],
   "source": [
    "for fila, info in ejemplo_pd.iterrows():\n",
    "    #print(fila)\n",
    "    print(info)"
   ]
  },
  {
   "cell_type": "markdown",
   "id": "812d0446",
   "metadata": {},
   "source": [
    "Es posible seleccionar una columna o columnas en específico dentro del ciclo:"
   ]
  },
  {
   "cell_type": "code",
   "execution_count": null,
   "id": "8d8563a9",
   "metadata": {},
   "outputs": [],
   "source": [
    "for etiqueta, fila in ejemplo_pd.iterrows():\n",
    "    print(etiqueta + ': '+ fila['capital'])"
   ]
  },
  {
   "cell_type": "markdown",
   "id": "f8e31e43",
   "metadata": {},
   "source": [
    "Otra forma de agregar variables a las cadenas es la siguiente:"
   ]
  },
  {
   "cell_type": "code",
   "execution_count": null,
   "id": "6b9a91dd",
   "metadata": {},
   "outputs": [],
   "source": [
    "for etiqueta, fila in ejemplo_pd.iterrows():\n",
    "    print('La población de {} es: {} millones de habitantes'.format(fila['pais'], fila['poblacion']))"
   ]
  },
  {
   "cell_type": "code",
   "execution_count": null,
   "id": "72e2f6d6",
   "metadata": {},
   "outputs": [],
   "source": []
  }
 ],
 "metadata": {
  "kernelspec": {
   "display_name": "Python 3 (ipykernel)",
   "language": "python",
   "name": "python3"
  },
  "language_info": {
   "codemirror_mode": {
    "name": "ipython",
    "version": 3
   },
   "file_extension": ".py",
   "mimetype": "text/x-python",
   "name": "python",
   "nbconvert_exporter": "python",
   "pygments_lexer": "ipython3",
   "version": "3.8.12"
  }
 },
 "nbformat": 4,
 "nbformat_minor": 5
}
