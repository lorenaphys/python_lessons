{
 "cells": [
  {
   "cell_type": "markdown",
   "id": "9c3591ab",
   "metadata": {},
   "source": [
    "# Diccionarios y pandas"
   ]
  },
  {
   "cell_type": "markdown",
   "id": "71851678",
   "metadata": {},
   "source": [
    "## Diccionarios "
   ]
  },
  {
   "cell_type": "markdown",
   "id": "c34172fe",
   "metadata": {},
   "source": [
    "Veremos un nuevo tipo de objeto en Python: los diccionarios, que son bastante útiles en la manipulación de datos, pongamos un ejemplo para ver su uso: queremos la analizar la población de varios países, para ellos, podemos usar listas, hagamos primero una lista que indique la población por país (en millones):"
   ]
  },
  {
   "cell_type": "code",
   "execution_count": null,
   "id": "d33b88d7",
   "metadata": {},
   "outputs": [],
   "source": [
    "pob = [30.55,2.77,39.21]"
   ]
  },
  {
   "cell_type": "markdown",
   "id": "9ba5904a",
   "metadata": {},
   "source": [
    "Ahora, creamos una lista que indique el correspodiente nombre de los países:"
   ]
  },
  {
   "cell_type": "code",
   "execution_count": null,
   "id": "d54c9018",
   "metadata": {},
   "outputs": [],
   "source": [
    "pais = ['Afganistan','Albania','Algeria']"
   ]
  },
  {
   "cell_type": "markdown",
   "id": "c709e811",
   "metadata": {},
   "source": [
    "Supongamos que ahora queremos obtener la población de Albania, así que primero hay que encontrar el índice que le corresponde a ese país, para eso, usamos el método **index()** de la siguiente manera:"
   ]
  },
  {
   "cell_type": "code",
   "execution_count": null,
   "id": "d6015ee4",
   "metadata": {},
   "outputs": [],
   "source": [
    "ind_alb = pais.index('Albania')"
   ]
  },
  {
   "cell_type": "code",
   "execution_count": null,
   "id": "b1dc9244",
   "metadata": {},
   "outputs": [],
   "source": [
    "ind_alb"
   ]
  },
  {
   "cell_type": "markdown",
   "id": "222b8ee4",
   "metadata": {},
   "source": [
    "Una vez obtenido el índice, lo podemos utilizar en la lista **pob** para acceder a su correspondiente población:"
   ]
  },
  {
   "cell_type": "code",
   "execution_count": null,
   "id": "87bcaf37",
   "metadata": {},
   "outputs": [],
   "source": [
    "pob[ind_alb]"
   ]
  },
  {
   "cell_type": "markdown",
   "id": "621fdcfb",
   "metadata": {},
   "source": [
    "Así que através de los índices, podemos acceder a elementos entre ambas listas, pero no es un método conveniente. Para conectar directamente cada país con su población, es mucho mejor usar los **diccionarios**."
   ]
  },
  {
   "cell_type": "markdown",
   "id": "6e4bc007",
   "metadata": {},
   "source": [
    "Convirtamos estos datos sobre la población en un diccionario, para crear este objeto, usamos **{ }**, después, dentros de los corchetes, colocamos pares llamados **key:value** pares, en este caso, **key** corresponde a los nombres de los países, y **value** corresponde a la población:"
   ]
  },
  {
   "cell_type": "code",
   "execution_count": null,
   "id": "3a6f2b97",
   "metadata": {},
   "outputs": [],
   "source": [
    "mundo = {'Afganistan':30.55,'Albania':2.77,'Algeria':39.21}"
   ]
  },
  {
   "cell_type": "markdown",
   "id": "3d2bd593",
   "metadata": {},
   "source": [
    "Si queremos encontrar la población de Albania con el diccionario mundo, simplemente escribimos lo siguiente:"
   ]
  },
  {
   "cell_type": "code",
   "execution_count": null,
   "id": "76477cca",
   "metadata": {},
   "outputs": [],
   "source": [
    "mundo['Albania']"
   ]
  },
  {
   "cell_type": "markdown",
   "id": "4a4062bb",
   "metadata": {},
   "source": [
    "Aquí podemos ver el potencial de los diccionarios, incluso con ellos podemos acceder a la formación contenido en diccionarios grandes."
   ]
  },
  {
   "cell_type": "markdown",
   "id": "690d00c4",
   "metadata": {},
   "source": [
    "Para un uso eficiente en los diccionarios, cada _key_ debe ser único, supongamos que agregamos otro par _key:value_ a _mundo_ con el mismo nombre de Albania:"
   ]
  },
  {
   "cell_type": "code",
   "execution_count": null,
   "id": "38119f92",
   "metadata": {},
   "outputs": [],
   "source": [
    "mundo = {'Afganistan':30.55,'Albania':2.77,'Algeria':39.21,'Albania':2.81}"
   ]
  },
  {
   "cell_type": "code",
   "execution_count": null,
   "id": "bfffffe3",
   "metadata": {},
   "outputs": [],
   "source": [
    "mundo"
   ]
  },
  {
   "cell_type": "markdown",
   "id": "90aa8878",
   "metadata": {},
   "source": [
    "Vemos que el diccionario contiene sólo tres pares, con esto podemos ver que los keys son objetos inmutables. Las cadenas, booleanos, enteros y reales son objetos inmutables, mientras que las listas son mutables, porque puedes cambiar sus elementos una vez creadas, es por eso que un diccionario como el siguiente:"
   ]
  },
  {
   "cell_type": "code",
   "execution_count": null,
   "id": "7ff6bc74",
   "metadata": {},
   "outputs": [],
   "source": [
    "{0:'hola',True:'mundo'}"
   ]
  },
  {
   "cell_type": "markdown",
   "id": "00d49207",
   "metadata": {},
   "source": [
    "mientras que un diccionario así:"
   ]
  },
  {
   "cell_type": "code",
   "execution_count": null,
   "id": "9e9305c0",
   "metadata": {},
   "outputs": [],
   "source": [
    "{['haciendo','una','prueba']: 'value'}"
   ]
  },
  {
   "cell_type": "markdown",
   "id": "ea6f5056",
   "metadata": {},
   "source": [
    "Arroja un error, porque no es válido usar una lista como key."
   ]
  },
  {
   "cell_type": "markdown",
   "id": "8cce87fe",
   "metadata": {},
   "source": [
    "Ahora que ya sabemos cómo crear un diccionario válido y a acceder a sus elementos, veamos cómo agregar elementos a diccionarios ya creados. Supongamos que queremos agregar a nuestro diccionario _mundo_ la cantidad de habitantes que tiene el Principado de Sealand, Sealand es una micronación y principado autoproclamado que tiene solamente 27 habitantes. Para agregar un par key:value que contenga la información de esta micronación, simplemente usamos corchetes cuadrados después del nombre del diccionario, dentro de los corchetes, ponemos el nombre del key que vamos a usar, en este caso **'Sealand'**, fuera de los corchetes y con el signo **=**, asignamos la cantidad de población, representada en millones de habitantes, en este caso **0.000027**, la estructura quedaría de la siguiente manera:"
   ]
  },
  {
   "cell_type": "code",
   "execution_count": null,
   "id": "77a35e1f",
   "metadata": {},
   "outputs": [],
   "source": [
    "mundo['Sealand'] = 27E-6"
   ]
  },
  {
   "cell_type": "code",
   "execution_count": null,
   "id": "5113e0db",
   "metadata": {},
   "outputs": [],
   "source": [
    "mundo"
   ]
  },
  {
   "cell_type": "markdown",
   "id": "cf888f95",
   "metadata": {},
   "source": [
    "Vemos que Sealand ahora está ahí."
   ]
  },
  {
   "cell_type": "markdown",
   "id": "cca02162",
   "metadata": {},
   "source": [
    "Con la misma sintaxis podemos cambiar los valores de cada uno de los pares, por ejemplo, aumentemos la población de Sealand a 28:"
   ]
  },
  {
   "cell_type": "code",
   "execution_count": null,
   "id": "39b541a7",
   "metadata": {},
   "outputs": [],
   "source": [
    "mundo['Sealand'] = 28E-6"
   ]
  },
  {
   "cell_type": "code",
   "execution_count": null,
   "id": "f271ee3d",
   "metadata": {},
   "outputs": [],
   "source": [
    "mundo"
   ]
  },
  {
   "cell_type": "markdown",
   "id": "bc42dc4a",
   "metadata": {},
   "source": [
    "Ahora, si queremos eliminar Sealand del diccionario, sólo hay que usar la función **del()**:"
   ]
  },
  {
   "cell_type": "code",
   "execution_count": null,
   "id": "cb87e754",
   "metadata": {},
   "outputs": [],
   "source": [
    "del(mundo['Sealand'])"
   ]
  },
  {
   "cell_type": "code",
   "execution_count": null,
   "id": "888de76a",
   "metadata": {},
   "outputs": [],
   "source": [
    "mundo"
   ]
  },
  {
   "cell_type": "markdown",
   "id": "31b8bcb4",
   "metadata": {},
   "source": [
    "Recapitulemos: los diccionarios están compuestos por una secuencia de valores, que, a diferencia de las listas, estos valores están indexados por claves únicas, que pueden ser de cualquier tipo inmutable."
   ]
  },
  {
   "cell_type": "markdown",
   "id": "5f568a08",
   "metadata": {},
   "source": [
    "## Pandas"
   ]
  },
  {
   "cell_type": "markdown",
   "id": "93d1cd6d",
   "metadata": {},
   "source": [
    "Para lidiar con muchos datos, podemos reducir los datos a una estructura tabular, como en una hoja de cálculo. Imaginemos que trabajamos en una planta química y tenemos que analizar toneladas de mediciones"
   ]
  },
  {
   "cell_type": "code",
   "execution_count": null,
   "id": "d709e746",
   "metadata": {},
   "outputs": [],
   "source": [
    "temperatura = [76,86,72,88,68,78]\n",
    "fecha = ['2021-10-21 14:00:01','2021-10-21 14:00:01','2021-10-21 15:00:01','2021-10-21 15:00:01','2021-10-21 16:00:01','2021-10-21 16:00:01']\n",
    "localizacion = ['Valvula', 'Compresor','Valvula','Compresor','Valvula','Compresor']"
   ]
  },
  {
   "cell_type": "code",
   "execution_count": null,
   "id": "1f2dbf3c",
   "metadata": {},
   "outputs": [],
   "source": [
    "datos = list(zip(temperatura,fecha,localizacion))"
   ]
  },
  {
   "cell_type": "code",
   "execution_count": null,
   "id": "11f4e414",
   "metadata": {},
   "outputs": [],
   "source": [
    "import matplotlib.pyplot as plt\n",
    "fig, ax = plt.subplots(1,1)\n",
    "ax.table(cellText = datos, colLabels = ['Temperatura', 'Fecha', 'Localización'], colColours = ['yellow']*3, loc = 'center')\n",
    "ax.axis('tight')\n",
    "ax.axis('off')\n",
    "plt.show()"
   ]
  },
  {
   "cell_type": "markdown",
   "id": "2cace53f",
   "metadata": {},
   "source": [
    "Para comenzar a trabajar con estos datos en Python, se necesitará alguna clase de estructura rectagular de datos, como los arreglos de Numpy, pero no necesariamente es la mejor estructura. En el ejemplo anterior, estamos trabajando con diferentes tipos de objetos, y con los arreglos sólo podemos usar el mismo tipo para cada uno de los elementos."
   ]
  },
  {
   "cell_type": "markdown",
   "id": "eafc4eaa",
   "metadata": {},
   "source": [
    "Para manejar de forma fácil y eficiente estos datos, existe el paquete **Pandas**. Pandas es una herramienta de manipulación de datos de alto nivel, aquí podemos poner los datos de forma tabular con un objeto llamado **DataFrame**. Hay diferentes formas de construir un objeto de este tipo, primero, podemos partir de un diccionario:"
   ]
  },
  {
   "cell_type": "code",
   "execution_count": null,
   "id": "45a889b1",
   "metadata": {},
   "outputs": [],
   "source": [
    "dic = {\n",
    "    'pais':['Brasil','Rusia','India','China','Sudáfrica'],\n",
    "    'capital':['Brasilia','Moscú','Nueva Delhi','Beijing','Pretoria'],\n",
    "    'area': [8.516,17.10,3.286,9.597,1.221],\n",
    "    'poblacion':[200.4,143.5,1252,1357,52.98]\n",
    "}"
   ]
  },
  {
   "cell_type": "markdown",
   "id": "44a9ebf0",
   "metadata": {},
   "source": [
    "Aquí, los keys son los nombres de las columnas, y los values son los valores de la categoría que les corresponde, organizados columna por columna. Ahora importamos el paquete Pandas con la abreviación **pd**:"
   ]
  },
  {
   "cell_type": "code",
   "execution_count": null,
   "id": "4c787e5f",
   "metadata": {},
   "outputs": [],
   "source": [
    "import pandas as pd"
   ]
  },
  {
   "cell_type": "code",
   "execution_count": null,
   "id": "8b2d33e2",
   "metadata": {},
   "outputs": [],
   "source": [
    "type(dic)"
   ]
  },
  {
   "cell_type": "code",
   "execution_count": null,
   "id": "6a37fb43",
   "metadata": {},
   "outputs": [],
   "source": [
    "dict_to_df = pd.DataFrame(dic)"
   ]
  },
  {
   "cell_type": "code",
   "execution_count": null,
   "id": "0e78a736",
   "metadata": {},
   "outputs": [],
   "source": [
    "dict_to_df"
   ]
  },
  {
   "cell_type": "markdown",
   "id": "bc43a7fc",
   "metadata": {},
   "source": [
    "Aquí vemos que Pandas en autómatico ha asignado índices a las filas, para especificarlos manualmente, se puede usar el atributo **index**:"
   ]
  },
  {
   "cell_type": "code",
   "execution_count": null,
   "id": "c9946631",
   "metadata": {},
   "outputs": [],
   "source": [
    "dict_to_df.index = ['BR','RU','IN','CH','SA']"
   ]
  },
  {
   "cell_type": "code",
   "execution_count": null,
   "id": "85231296",
   "metadata": {},
   "outputs": [],
   "source": [
    "dict_to_df"
   ]
  },
  {
   "cell_type": "markdown",
   "id": "c9fed5a7",
   "metadata": {},
   "source": [
    "Ya vimos que se puede construir un objeto DataFrame manualmente, pero, qué pasa si vamos a analizar muchos datos? para ello, hay que recurrir a la importación. Supongamos que tenemos los datos que acabamos de usar en un archivo con formato .csv (comma separated values), para importarlo, usamos la función de Pandas **pd.read_csv()**:"
   ]
  },
  {
   "cell_type": "code",
   "execution_count": null,
   "id": "ec0af3fb",
   "metadata": {},
   "outputs": [],
   "source": [
    "ejemplo_pd = pd.read_csv(\n",
    "    '/home/lorena/Escritorio/Fossion/Trabajo_durante_doctorado/Proyecto_con_Luis_Mnez/Fisica_Biologica_2022-1/ejemplo_pandas.csv', encoding=\"utf-8\")"
   ]
  },
  {
   "cell_type": "markdown",
   "id": "ab799a4c",
   "metadata": {},
   "source": [
    "**Nota:** el argumento **enconding=\"utf-8\"** nos ayuda a que al momento de descargar un archivo, no aparezcan caracteres raros."
   ]
  },
  {
   "cell_type": "code",
   "execution_count": null,
   "id": "cf209b50",
   "metadata": {},
   "outputs": [],
   "source": [
    "ejemplo_pd"
   ]
  },
  {
   "cell_type": "code",
   "execution_count": null,
   "id": "1f3f52b5",
   "metadata": {},
   "outputs": [],
   "source": [
    "ejemplo_pd.shape"
   ]
  },
  {
   "cell_type": "markdown",
   "id": "6f3df966",
   "metadata": {},
   "source": [
    "### Indexación y selección de datos"
   ]
  },
  {
   "cell_type": "markdown",
   "id": "89052ed0",
   "metadata": {},
   "source": [
    "Hay varias formas de seleccionar datos dentro de DataFrame, primero, veremos cómo hacerlo a través de los corchetes cuadrados. Supongamos que queremos solamente la columna que pertenece al país en **ejemplo_pd**, con los corchetes cuadrados escribimos lo siguiente:"
   ]
  },
  {
   "cell_type": "code",
   "execution_count": null,
   "id": "751b1a43",
   "metadata": {},
   "outputs": [],
   "source": [
    "ejemplo_pd['pais']"
   ]
  },
  {
   "cell_type": "markdown",
   "id": "1569a4e8",
   "metadata": {},
   "source": [
    "En la última línea, vemos que no estamos trabajando con un objeto DataFrame regular, veamos qué tipo de objeto es:"
   ]
  },
  {
   "cell_type": "code",
   "execution_count": null,
   "id": "9b60775e",
   "metadata": {},
   "outputs": [],
   "source": [
    "type(ejemplo_pd['pais'])"
   ]
  },
  {
   "cell_type": "markdown",
   "id": "32a04a03",
   "metadata": {},
   "source": [
    "Estamos trabajando con un objeto tipo Pandas Series, de una forma simple, podemos pensar que con Series tenemos un arreglo 1-dimensional que puede ser etiquetado, justo como con DataFrame.  "
   ]
  },
  {
   "cell_type": "markdown",
   "id": "ebcf795a",
   "metadata": {},
   "source": [
    "Si queremos seleccionar una columna de DataFrame manteniéndola con el mismo tipo de objeto, hay que usar corchetes dobles:"
   ]
  },
  {
   "cell_type": "code",
   "execution_count": null,
   "id": "298fc7d4",
   "metadata": {},
   "outputs": [],
   "source": [
    "ejemplo_pd[['pais']]"
   ]
  },
  {
   "cell_type": "code",
   "execution_count": null,
   "id": "9756f836",
   "metadata": {},
   "outputs": [],
   "source": [
    "type(ejemplo_pd[['pais']])"
   ]
  },
  {
   "cell_type": "markdown",
   "id": "262fd120",
   "metadata": {},
   "source": [
    "Con esta estructura, podemos perfectamente escoger más de una columna:"
   ]
  },
  {
   "cell_type": "code",
   "execution_count": null,
   "id": "eaddc094",
   "metadata": {},
   "outputs": [],
   "source": [
    "ejemplo_pd[['pais','poblacion']]"
   ]
  },
  {
   "cell_type": "markdown",
   "id": "19fb244b",
   "metadata": {},
   "source": [
    "Para escoger filas específicas, usamos la misma estructura que con las listas y los arreglos, así por ejemplo, si queremos los elementos de la segunda a la cuarta fila, escribimos:"
   ]
  },
  {
   "cell_type": "code",
   "execution_count": null,
   "id": "506841eb",
   "metadata": {},
   "outputs": [],
   "source": [
    "ejemplo_pd[1:4]"
   ]
  },
  {
   "cell_type": "markdown",
   "id": "c51c2e03",
   "metadata": {},
   "source": [
    "Una forma más avanzada de seleccionar elementos, en la que podemos poner en un sólo comando la fila y columnas a selecccionar, es con los métodos **loc** y **iloc**. Comencemos con **loc**."
   ]
  },
  {
   "cell_type": "markdown",
   "id": "ab94c62c",
   "metadata": {},
   "source": [
    "Tomemos la fila correspondiente a Rusia, la función loc utiliza las etiquetas para seleccionar los elementos, así que antes de continuar, agreguemos etiquetas a las filas:"
   ]
  },
  {
   "cell_type": "code",
   "execution_count": null,
   "id": "3f6bc59e",
   "metadata": {},
   "outputs": [],
   "source": [
    "ejemplo_pd.index = ['BR','RU','IN','CH','SA']"
   ]
  },
  {
   "cell_type": "code",
   "execution_count": null,
   "id": "0acf0767",
   "metadata": {},
   "outputs": [],
   "source": [
    "ejemplo_pd"
   ]
  },
  {
   "cell_type": "markdown",
   "id": "a2eb5fb5",
   "metadata": {},
   "source": [
    "Si seleccionamos la fila correspondiente a Rusia, podemos escribir:"
   ]
  },
  {
   "cell_type": "code",
   "execution_count": null,
   "id": "83ac0af0",
   "metadata": {},
   "outputs": [],
   "source": [
    "ejemplo_pd.loc['RU']"
   ]
  },
  {
   "cell_type": "markdown",
   "id": "d32be9dd",
   "metadata": {},
   "source": [
    "De nuevo, tenemos un objeto tipo Series, así que debemos escribir corchetes dobles para obtener un objeto DataFrame."
   ]
  },
  {
   "cell_type": "code",
   "execution_count": null,
   "id": "b9cff35a",
   "metadata": {},
   "outputs": [],
   "source": [
    "ejemplo_pd.loc[['RU']]"
   ]
  },
  {
   "cell_type": "markdown",
   "id": "f71476ce",
   "metadata": {},
   "source": [
    "Para seleccionar más filas, simplemente agregamos más etiquetas de ellas, por ejemplo, si también queremos los datos de India y China, escribimos:"
   ]
  },
  {
   "cell_type": "code",
   "execution_count": null,
   "id": "a261453a",
   "metadata": {},
   "outputs": [],
   "source": [
    "ejemplo_pd.loc[['RU','IN','CH']]"
   ]
  },
  {
   "cell_type": "markdown",
   "id": "26015ea5",
   "metadata": {},
   "source": [
    "Para extender la selección a columnas específicas, colocamos una coma después de las filas que queremos, seguido de las etiquetas de las columnas deseadas, así por ejemplo, si queremos sólo el país y el área, escribimos:"
   ]
  },
  {
   "cell_type": "code",
   "execution_count": null,
   "id": "c966f628",
   "metadata": {},
   "outputs": [],
   "source": [
    "ejemplo_pd.loc[['RU','IN','CH'],['pais','area']]"
   ]
  },
  {
   "cell_type": "markdown",
   "id": "ad3c383e",
   "metadata": {},
   "source": [
    "Si queremos todas las filas y sólo esas dos columnas, usamos los dos puntos para indicarlo:"
   ]
  },
  {
   "cell_type": "code",
   "execution_count": null,
   "id": "916b01d9",
   "metadata": {},
   "outputs": [],
   "source": [
    "ejemplo_pd.loc[:,['pais','area']]"
   ]
  },
  {
   "cell_type": "markdown",
   "id": "ddf6a278",
   "metadata": {},
   "source": [
    "Si queremos seleccionar elementos dentro de un objeto dataFrame basado en los índices y no en las etiquetas, es necesarios usar **iloc**. Seleccionemos los elementos anteriores ahora con esta función, para escoger la fila correspondiente a Rusia escribimos:"
   ]
  },
  {
   "cell_type": "code",
   "execution_count": null,
   "id": "49c38a29",
   "metadata": {},
   "outputs": [],
   "source": [
    "ejemplo_pd.iloc[[1]]"
   ]
  },
  {
   "cell_type": "markdown",
   "id": "9bd20791",
   "metadata": {},
   "source": [
    "Entonces, si queremos además las filas correspondientes a India y China, usamos una lista que indique los índices de sus correspondientes filas:"
   ]
  },
  {
   "cell_type": "code",
   "execution_count": null,
   "id": "78809d66",
   "metadata": {},
   "outputs": [],
   "source": [
    "ejemplo_pd.iloc[[1,2,3]]"
   ]
  },
  {
   "cell_type": "markdown",
   "id": "769b7a18",
   "metadata": {},
   "source": [
    "Así que si queremos especificar las columnas correspondientes a pais y area, escribimos:"
   ]
  },
  {
   "cell_type": "code",
   "execution_count": null,
   "id": "abdcb302",
   "metadata": {},
   "outputs": [],
   "source": [
    "ejemplo_pd.iloc[[1,2,3],[0,2]]"
   ]
  },
  {
   "cell_type": "markdown",
   "id": "c2f27a02",
   "metadata": {},
   "source": [
    "Y seleccionando todas las filas:"
   ]
  },
  {
   "cell_type": "code",
   "execution_count": null,
   "id": "dd58f961",
   "metadata": {},
   "outputs": [],
   "source": [
    "ejemplo_pd.iloc[:,[0,2]]"
   ]
  },
  {
   "cell_type": "code",
   "execution_count": null,
   "id": "db194ecd",
   "metadata": {},
   "outputs": [],
   "source": [
    "ejemplo_pd"
   ]
  },
  {
   "cell_type": "code",
   "execution_count": null,
   "id": "bf076ef8",
   "metadata": {},
   "outputs": [],
   "source": [
    "ejemplo_pd.describe()"
   ]
  },
  {
   "cell_type": "code",
   "execution_count": null,
   "id": "155fb250",
   "metadata": {},
   "outputs": [],
   "source": [
    "ejemplo_pd.columns"
   ]
  },
  {
   "cell_type": "code",
   "execution_count": null,
   "id": "7ac4f4bd",
   "metadata": {},
   "outputs": [],
   "source": [
    "ejemplo_pd.index"
   ]
  },
  {
   "cell_type": "code",
   "execution_count": null,
   "id": "78c5e8c4",
   "metadata": {},
   "outputs": [],
   "source": [
    "ejemplo_pd.tail(2)"
   ]
  },
  {
   "cell_type": "code",
   "execution_count": null,
   "id": "efd95df5",
   "metadata": {},
   "outputs": [],
   "source": [
    "help(pd.read_csv)"
   ]
  },
  {
   "cell_type": "markdown",
   "id": "1378446c",
   "metadata": {},
   "source": [
    "### Operadores de comparación "
   ]
  },
  {
   "cell_type": "markdown",
   "id": "27e4ffd9",
   "metadata": {},
   "source": [
    "Pandas está construído sobre Numpy, así que podemos usar los operadores de comparación sobre los DataFrame de la misma forma que sobre los arreglos. Sólo que cuando hagamos la comparación debemos pedir un objeto tipo **Series** en vez de uno tipo DataFrame."
   ]
  },
  {
   "cell_type": "markdown",
   "id": "8a03d1da",
   "metadata": {},
   "source": [
    "**Nota:** otra forma de usar una columna en específico de un DataFrame es con la sintaxis de un método, quedando el nombre de la columna después del punto, claro, esto sólo cuando no se usan espacios en el nombre de dicha columna. "
   ]
  },
  {
   "cell_type": "code",
   "execution_count": null,
   "id": "91fc07ab",
   "metadata": {},
   "outputs": [],
   "source": [
    "ejemplo_pd.columns"
   ]
  },
  {
   "cell_type": "code",
   "execution_count": null,
   "id": "2add687b",
   "metadata": {},
   "outputs": [],
   "source": [
    "ejemplo_pd.poblacion > 1000"
   ]
  },
  {
   "cell_type": "code",
   "execution_count": null,
   "id": "0128a7e7",
   "metadata": {},
   "outputs": [],
   "source": [
    "ejemplo_pd[ejemplo_pd.poblacion > 1000]"
   ]
  },
  {
   "cell_type": "code",
   "execution_count": null,
   "id": "5073023a",
   "metadata": {},
   "outputs": [],
   "source": [
    "ejemplo_pd"
   ]
  },
  {
   "cell_type": "code",
   "execution_count": null,
   "id": "4c0bbf41",
   "metadata": {},
   "outputs": [],
   "source": [
    "import numpy as np"
   ]
  },
  {
   "cell_type": "code",
   "execution_count": null,
   "id": "e16d129a",
   "metadata": {},
   "outputs": [],
   "source": [
    "dos_comp = np.logical_and(ejemplo_pd['poblacion'] > 200, ejemplo_pd['area'] > 9)"
   ]
  },
  {
   "cell_type": "code",
   "execution_count": null,
   "id": "a9a8fa2b",
   "metadata": {},
   "outputs": [],
   "source": [
    "dos_comp"
   ]
  },
  {
   "cell_type": "code",
   "execution_count": null,
   "id": "598d6c6c",
   "metadata": {},
   "outputs": [],
   "source": [
    "ejemplo_pd[dos_comp]"
   ]
  },
  {
   "cell_type": "code",
   "execution_count": null,
   "id": "8e516d97",
   "metadata": {},
   "outputs": [],
   "source": []
  }
 ],
 "metadata": {
  "kernelspec": {
   "display_name": "Python 3 (ipykernel)",
   "language": "python",
   "name": "python3"
  },
  "language_info": {
   "codemirror_mode": {
    "name": "ipython",
    "version": 3
   },
   "file_extension": ".py",
   "mimetype": "text/x-python",
   "name": "python",
   "nbconvert_exporter": "python",
   "pygments_lexer": "ipython3",
   "version": "3.8.12"
  }
 },
 "nbformat": 4,
 "nbformat_minor": 5
}
