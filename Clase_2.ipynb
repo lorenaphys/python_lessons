{
 "cells": [
  {
   "cell_type": "markdown",
   "id": "7cc98513",
   "metadata": {},
   "source": [
    "# Arreglos de numpy"
   ]
  },
  {
   "cell_type": "markdown",
   "id": "87f81e9e",
   "metadata": {},
   "source": [
    "Ya vimos en el clase pasada que a diferencia de las listas, los arreglos aceptan sólo un tipo de objeto en sus entradas, y eso da como ventaja que se pueden realizar operaciones entre arreglos, porque python va a aplicar la operación elemento a elemento. Ahora veamos qué podemos hacer cuando queremos elementos que cumplen con cierta condición."
   ]
  },
  {
   "cell_type": "markdown",
   "id": "3d17d7a2",
   "metadata": {},
   "source": [
    "Por ejemplo, en el siguiente arreglo tenemos elementos con una distribución normal con media igual a 10 y desviación estándar igual a 50, de todos estos elementos, podemos escoger a aquellos que sean mayores a 30, para ello sólo usamos el símbolo **>**:"
   ]
  },
  {
   "cell_type": "code",
   "execution_count": null,
   "id": "eb06595e",
   "metadata": {},
   "outputs": [],
   "source": [
    "# Primero importamos el paquete de numpy\n",
    "import numpy as np"
   ]
  },
  {
   "cell_type": "code",
   "execution_count": null,
   "id": "ac37af4d",
   "metadata": {},
   "outputs": [],
   "source": [
    "# Ahora creamos la lista con la función np.random.normal\n",
    "# puedes recurrir a la documentación si tienes duda de cómo\n",
    "# usar esta función\n",
    "arreglo = np.random.normal(10,50,20)"
   ]
  },
  {
   "cell_type": "code",
   "execution_count": null,
   "id": "e0365207",
   "metadata": {},
   "outputs": [],
   "source": [
    "arreglo"
   ]
  },
  {
   "cell_type": "code",
   "execution_count": null,
   "id": "e16f0169",
   "metadata": {},
   "outputs": [],
   "source": [
    "arreglo > 30"
   ]
  },
  {
   "cell_type": "markdown",
   "id": "36221261",
   "metadata": {},
   "source": [
    "Vemos que python arroja un arreglo el cual contiene **True** cuando se cumple esta desigualdad, y **False** cuando no se cumple."
   ]
  },
  {
   "cell_type": "markdown",
   "id": "43084190",
   "metadata": {},
   "source": [
    "El arreglo que resulta de hacer esta comparación se puede utilizar sobre el arreglo original para descartar a aquellos elementos que no cumplen con la desigualdad, la sintaxis es la siguiente:"
   ]
  },
  {
   "cell_type": "code",
   "execution_count": null,
   "id": "fb0ca997",
   "metadata": {},
   "outputs": [],
   "source": [
    "arreglo[arreglo > 30]"
   ]
  },
  {
   "cell_type": "markdown",
   "id": "d9cf58d2",
   "metadata": {},
   "source": [
    "A continuación se muestra una tabla con otras comparaciones que se pueden hacer y cuáles son sus símbolos a utilizar:"
   ]
  },
  {
   "cell_type": "code",
   "execution_count": null,
   "id": "bed6fa98",
   "metadata": {},
   "outputs": [],
   "source": [
    "comp = [['<','menor que'], ['<=','menor o igual que'], ['>','mayor que'], ['>=','mayor o igual que'], ['==','igual que'], ['!=','diferente que']]"
   ]
  },
  {
   "cell_type": "code",
   "execution_count": null,
   "id": "65daa759",
   "metadata": {},
   "outputs": [],
   "source": [
    "import matplotlib.pyplot as plt\n",
    "fig, ax1 = plt.subplots(1,1)\n",
    "ax1.table(cellText = comp, colLabels = ['Operador', 'Significado'], colColours = ['yellow']*3, loc = 'center')\n",
    "ax1.axis('tight')\n",
    "ax1.axis('off')\n",
    "plt.show()"
   ]
  },
  {
   "cell_type": "markdown",
   "id": "d2aa003c",
   "metadata": {},
   "source": [
    "## Operadores booleanos"
   ]
  },
  {
   "cell_type": "markdown",
   "id": "1d539682",
   "metadata": {},
   "source": [
    "Ya vimos que podemos usar comparaciones para seleccionar a los elementos que cumplan con cierta condición, esto también lo podemos hacer con otro tipo de objetos, por ejemplo, tomemos un número entero:"
   ]
  },
  {
   "cell_type": "code",
   "execution_count": null,
   "id": "42d6bc88",
   "metadata": {},
   "outputs": [],
   "source": [
    "x = 15"
   ]
  },
  {
   "cell_type": "markdown",
   "id": "4efada6f",
   "metadata": {},
   "source": [
    "Podemos revisar si **x** es menor o igual a 10:"
   ]
  },
  {
   "cell_type": "code",
   "execution_count": null,
   "id": "88ef4891",
   "metadata": {},
   "outputs": [],
   "source": [
    "x <= 10"
   ]
  },
  {
   "cell_type": "markdown",
   "id": "c274dd2f",
   "metadata": {},
   "source": [
    "o si es diferente a 20:"
   ]
  },
  {
   "cell_type": "code",
   "execution_count": null,
   "id": "b633a89b",
   "metadata": {},
   "outputs": [],
   "source": [
    "x != 20"
   ]
  },
  {
   "cell_type": "markdown",
   "id": "b91085ad",
   "metadata": {},
   "source": [
    "### Operador and "
   ]
  },
  {
   "cell_type": "markdown",
   "id": "8cd46688",
   "metadata": {},
   "source": [
    "También podemos revisar si cumple con dos condiciones, por ejemplo, si **x** es mayor a 9 y al mismo tiempo menor o igual a 17, para ello, hay que recurrir al operador lógico **and**, este operador recibe dos booleanos y sólo cuando ambos sean **True** se obtiene como resultado **True**:"
   ]
  },
  {
   "cell_type": "code",
   "execution_count": null,
   "id": "d5b9affc",
   "metadata": {},
   "outputs": [],
   "source": [
    "x > 9"
   ]
  },
  {
   "cell_type": "code",
   "execution_count": null,
   "id": "dee0c1e2",
   "metadata": {},
   "outputs": [],
   "source": [
    "x <= 17"
   ]
  },
  {
   "cell_type": "code",
   "execution_count": null,
   "id": "c475f0e6",
   "metadata": {},
   "outputs": [],
   "source": [
    "x > 9 and x <= 17"
   ]
  },
  {
   "cell_type": "markdown",
   "id": "203bb607",
   "metadata": {},
   "source": [
    "### Operadores or y not"
   ]
  },
  {
   "cell_type": "markdown",
   "id": "14d9e97d",
   "metadata": {},
   "source": [
    "Además del operador **and**, existen **or** y **not** para realizar comparaciones lógicas. El operador **or** también recibe dos booleanos y con él se obtiene como resultado **True** cuando al menos uno de ellos es **True**:"
   ]
  },
  {
   "cell_type": "code",
   "execution_count": null,
   "id": "93105388",
   "metadata": {},
   "outputs": [],
   "source": [
    "True or True"
   ]
  },
  {
   "cell_type": "code",
   "execution_count": null,
   "id": "b6b29b8f",
   "metadata": {},
   "outputs": [],
   "source": [
    "True or False"
   ]
  },
  {
   "cell_type": "code",
   "execution_count": null,
   "id": "366a11e0",
   "metadata": {},
   "outputs": [],
   "source": [
    "False or True"
   ]
  },
  {
   "cell_type": "code",
   "execution_count": null,
   "id": "b3053feb",
   "metadata": {},
   "outputs": [],
   "source": [
    "False or False"
   ]
  },
  {
   "cell_type": "markdown",
   "id": "bb1f5e81",
   "metadata": {},
   "source": [
    "El operador **not** lo que hace es cambiar el booleano que tenemos, lo niega:"
   ]
  },
  {
   "cell_type": "code",
   "execution_count": null,
   "id": "15ec230b",
   "metadata": {},
   "outputs": [],
   "source": [
    "not True"
   ]
  },
  {
   "cell_type": "code",
   "execution_count": null,
   "id": "81de74b9",
   "metadata": {},
   "outputs": [],
   "source": [
    "not False"
   ]
  },
  {
   "cell_type": "markdown",
   "id": "a4a97197",
   "metadata": {},
   "source": [
    "Ya vimos que este operador se puede aplicar a números enteros, veamos si también se pueden aplicar a arreglos, usemos de nuevo el arreglo que usamos al principio:"
   ]
  },
  {
   "cell_type": "code",
   "execution_count": null,
   "id": "dd2d4ae8",
   "metadata": {},
   "outputs": [],
   "source": [
    "arreglo"
   ]
  },
  {
   "cell_type": "markdown",
   "id": "b6524f55",
   "metadata": {},
   "source": [
    "Busquemos a aquellos elementos que sean mayores o iguales a 18 y que al mismo tiempo sean menores a 80, de acuerdo a lo que vimos, el operador más conveniente es **and**, entonces escribimos:"
   ]
  },
  {
   "cell_type": "code",
   "execution_count": null,
   "id": "8f3d5945",
   "metadata": {},
   "outputs": [],
   "source": [
    "arreglo >= 18 and arreglo < 80"
   ]
  },
  {
   "cell_type": "markdown",
   "id": "118a0883",
   "metadata": {},
   "source": [
    "Vemos que obtenemos un error, es porque con este operador no podemos analizar cada uno de los elementos para ver si cumplen con las dos desigualdades, lo mismo pasa con **not** y **or**. "
   ]
  },
  {
   "cell_type": "markdown",
   "id": "1e0fa9cd",
   "metadata": {},
   "source": [
    "Los arreglos tienen sus propios operadores lógicos, los cuales vienen de numpy, estos son **np.logical_and()**, **np.logical_or()** y **np.logical_not()**. Apliquemos el equivalente al operador **and** con las desigualdades anteriores:"
   ]
  },
  {
   "cell_type": "code",
   "execution_count": null,
   "id": "eed42bfa",
   "metadata": {},
   "outputs": [],
   "source": [
    "np.logical_and(arreglo >= 18, arreglo < 80)"
   ]
  },
  {
   "cell_type": "markdown",
   "id": "c9e1dcca",
   "metadata": {},
   "source": [
    "Obtenemos lo que esperamos, un arreglo con elementos **False** cuando no se cumplen ambas condiciones, y con elementos **True** cuando sí se cumplen."
   ]
  },
  {
   "cell_type": "markdown",
   "id": "d7107998",
   "metadata": {},
   "source": [
    "Así que el arreglo que se obtiene de hacer esta comparación se puede utilizar para descartar a aquellos elementos que obtuvieron **False**. Ya que la sintaxis de la comparación quedó un poco larga, podemos asignarle una variable para que todo sea más fácil de escribir:"
   ]
  },
  {
   "cell_type": "code",
   "execution_count": null,
   "id": "722b4086",
   "metadata": {},
   "outputs": [],
   "source": [
    "comp = np.logical_and(arreglo >= 18, arreglo < 80)"
   ]
  },
  {
   "cell_type": "code",
   "execution_count": null,
   "id": "e44f86e0",
   "metadata": {},
   "outputs": [],
   "source": [
    "arreglo[comp]"
   ]
  },
  {
   "cell_type": "markdown",
   "id": "390739cc",
   "metadata": {},
   "source": [
    "## if, elif, else "
   ]
  },
  {
   "cell_type": "markdown",
   "id": "2e787668",
   "metadata": {},
   "source": [
    "Hay ocasiones en las que necesitamos realizar cierta acción sobre un objeto si este cumple con cierta condición, por ejemplo, tal vez queremos calcular el cuadrado de aquellos números que se encuentran entre 1 y 100 que sean primos. Para ello, necesitamos usar condicionales, en python se tiene como opción **if**, **elif** y **else**. A continuación vamos a ver de qué tratan:"
   ]
  },
  {
   "cell_type": "markdown",
   "id": "48fd2a4c",
   "metadata": {},
   "source": [
    "### if "
   ]
  },
  {
   "cell_type": "markdown",
   "id": "e7d99db0",
   "metadata": {},
   "source": [
    "La sintaxis para utilizar este condicional es la siguiente:"
   ]
  },
  {
   "cell_type": "markdown",
   "id": "3c170afe",
   "metadata": {},
   "source": [
    "if condicion: \n",
    "    expresion"
   ]
  },
  {
   "cell_type": "markdown",
   "id": "6c2c1d88",
   "metadata": {},
   "source": [
    "Lo que tenemos es un **bloque de código**, es importante siempre dejar el espacio en todas las expresiones que vayan dentro de este bloque, ya que python entiene que todo lo que tenga este espacio, se realizará dentro del condicional if."
   ]
  },
  {
   "cell_type": "markdown",
   "id": "b2cd059b",
   "metadata": {},
   "source": [
    "Hagamos un bloque de código que arreje un texto si el número que estoy analizando es par, para ello usaremos una nueva operación, el módulo, con esta operación obtenemos el residuo resultante de una división:"
   ]
  },
  {
   "cell_type": "code",
   "execution_count": null,
   "id": "cd5f4ba9",
   "metadata": {},
   "outputs": [],
   "source": [
    "15 % 4"
   ]
  },
  {
   "cell_type": "markdown",
   "id": "31278cf1",
   "metadata": {},
   "source": [
    "Entonces, los número pares son aquellos números que a aplicarles el módulo 2 obtengan 0."
   ]
  },
  {
   "cell_type": "code",
   "execution_count": null,
   "id": "be767453",
   "metadata": {},
   "outputs": [],
   "source": [
    "100 % 2"
   ]
  },
  {
   "cell_type": "code",
   "execution_count": null,
   "id": "eaffb4e6",
   "metadata": {},
   "outputs": [],
   "source": [
    "x = 8"
   ]
  },
  {
   "cell_type": "code",
   "execution_count": null,
   "id": "8bc95611",
   "metadata": {},
   "outputs": [],
   "source": [
    "if x % 2 == 0:\n",
    "    print(\"El número es par\")"
   ]
  },
  {
   "cell_type": "markdown",
   "id": "d1073d44",
   "metadata": {},
   "source": [
    "Dentro de nuestro bloque de código podemos poner más de una expresión, como en el siguiente caso:"
   ]
  },
  {
   "cell_type": "code",
   "execution_count": null,
   "id": "9e12a197",
   "metadata": {},
   "outputs": [],
   "source": [
    "if x % 2 == 0 :\n",
    "    print('Revisando ' + str(x))\n",
    "    print('x es par')"
   ]
  },
  {
   "cell_type": "markdown",
   "id": "93be1475",
   "metadata": {},
   "source": [
    "### else"
   ]
  },
  {
   "cell_type": "markdown",
   "id": "707a5587",
   "metadata": {},
   "source": [
    "Ahora, qué pasa con if si la condición es falsa, usemos el bloque anterior como ejemplo y usemos un número impar: "
   ]
  },
  {
   "cell_type": "code",
   "execution_count": null,
   "id": "598e920e",
   "metadata": {},
   "outputs": [],
   "source": [
    "y = 7"
   ]
  },
  {
   "cell_type": "code",
   "execution_count": null,
   "id": "4a0832c4",
   "metadata": {},
   "outputs": [],
   "source": [
    "if y % 2 == 0 :\n",
    "    print('Revisando ' + str(y))\n",
    "    print('y es par')"
   ]
  },
  {
   "cell_type": "markdown",
   "id": "c829827f",
   "metadata": {},
   "source": [
    "Vemos que cuando la condición es falsa, simplemente no se realiza ninguna orden. Cuando queremos un bloque de código que realice cierta acción cuando la condición es verdadera y otra acción cuando es falsa, usamos en conjunto las condicionales if y **else**. else es utilizado para indicar qué acción se va a realizar cuando la condición utilizada en if resulta falsa."
   ]
  },
  {
   "cell_type": "markdown",
   "id": "7ef0386d",
   "metadata": {},
   "source": [
    "Usemos **else** en el bloque que nos muestra si un número es par, para que también muestre un texto en caso de que dicho número sea impar:"
   ]
  },
  {
   "cell_type": "code",
   "execution_count": null,
   "id": "013a6d50",
   "metadata": {},
   "outputs": [],
   "source": [
    "num1 = 100\n",
    "num2 = 33"
   ]
  },
  {
   "cell_type": "code",
   "execution_count": null,
   "id": "2dd851f4",
   "metadata": {},
   "outputs": [],
   "source": [
    "if num2 % 2 == 0:\n",
    "    print(\"El número es par\")\n",
    "else:\n",
    "    print(\"El número es impar\")"
   ]
  },
  {
   "cell_type": "markdown",
   "id": "ebf35705",
   "metadata": {},
   "source": [
    "### elif"
   ]
  },
  {
   "cell_type": "markdown",
   "id": "cee72540",
   "metadata": {},
   "source": [
    "Hay ocasiones en las que en nuestro código se necesitan hacer acciones para más de dos condiciones, en esos casos hay que agregar una tercera condicional, **elif**, con ella agregamos condiciones extras a nuestro bloque de código."
   ]
  },
  {
   "cell_type": "markdown",
   "id": "3470797e",
   "metadata": {},
   "source": [
    "Por ejemplo, si queremos revisar si un número dado es múltiplo de 2, 3 o ninguno de estos números, podemos escribir lo siguiente: "
   ]
  },
  {
   "cell_type": "code",
   "execution_count": null,
   "id": "a5057670",
   "metadata": {},
   "outputs": [],
   "source": [
    "num3 = 7\n",
    "num4 = 6"
   ]
  },
  {
   "cell_type": "code",
   "execution_count": null,
   "id": "6da23e73",
   "metadata": {},
   "outputs": [],
   "source": [
    "if num4 % 2 == 0:\n",
    "    print(\"El número es múltiplo de 2\")\n",
    "elif num4 % 3 == 0:\n",
    "    print(\"El número es múltiplo de 3\")\n",
    "else:\n",
    "    print(\"El número no es múltiplo ni de 2 ni de 3\")"
   ]
  },
  {
   "cell_type": "markdown",
   "id": "287768eb",
   "metadata": {},
   "source": [
    "Vemos que con estas condicionales, en cuando en una de ellas se tiene verdadero, se realiza la acción y se detiene el proceso."
   ]
  },
  {
   "cell_type": "code",
   "execution_count": null,
   "id": "f1458601",
   "metadata": {},
   "outputs": [],
   "source": []
  }
 ],
 "metadata": {
  "kernelspec": {
   "display_name": "Python 3 (ipykernel)",
   "language": "python",
   "name": "python3"
  },
  "language_info": {
   "codemirror_mode": {
    "name": "ipython",
    "version": 3
   },
   "file_extension": ".py",
   "mimetype": "text/x-python",
   "name": "python",
   "nbconvert_exporter": "python",
   "pygments_lexer": "ipython3",
   "version": "3.8.12"
  }
 },
 "nbformat": 4,
 "nbformat_minor": 5
}
