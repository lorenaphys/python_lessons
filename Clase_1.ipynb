{
 "cells": [
  {
   "cell_type": "markdown",
   "id": "f5b9bc1b",
   "metadata": {},
   "source": [
    "# Introducción a Python"
   ]
  },
  {
   "cell_type": "markdown",
   "id": "7c322277",
   "metadata": {},
   "source": [
    "Si utilizas notebooks de jupyter para trabajar con Python, tienes la opción usar Markdown en las celdas, [puedes usar este editor](http://pandao.github.io/editor.md/en.html \"puedes usar este editor\") de markdown para que tus celdas queden con el estilo que tú quieras. "
   ]
  },
  {
   "cell_type": "markdown",
   "id": "35bd407e",
   "metadata": {},
   "source": [
    "# Cálculos básicos"
   ]
  },
  {
   "cell_type": "markdown",
   "id": "eb9e6cc3",
   "metadata": {},
   "source": [
    "## Suma "
   ]
  },
  {
   "cell_type": "code",
   "execution_count": null,
   "id": "1e6c0415",
   "metadata": {},
   "outputs": [],
   "source": [
    "3+4"
   ]
  },
  {
   "cell_type": "code",
   "execution_count": null,
   "id": "2aef17a2",
   "metadata": {},
   "outputs": [],
   "source": [
    "3+4.5"
   ]
  },
  {
   "cell_type": "markdown",
   "id": "cab47a3e",
   "metadata": {},
   "source": [
    "## Resta"
   ]
  },
  {
   "cell_type": "code",
   "execution_count": null,
   "id": "8cf604ed",
   "metadata": {},
   "outputs": [],
   "source": [
    "4-6"
   ]
  },
  {
   "cell_type": "code",
   "execution_count": null,
   "id": "bcaa96f7",
   "metadata": {},
   "outputs": [],
   "source": [
    "8-3.5"
   ]
  },
  {
   "cell_type": "markdown",
   "id": "9f490d03",
   "metadata": {},
   "source": [
    "# División"
   ]
  },
  {
   "cell_type": "code",
   "execution_count": null,
   "id": "7f61168b",
   "metadata": {},
   "outputs": [],
   "source": [
    "4/3"
   ]
  },
  {
   "cell_type": "markdown",
   "id": "4d61e450",
   "metadata": {},
   "source": [
    "## Potencia"
   ]
  },
  {
   "cell_type": "code",
   "execution_count": null,
   "id": "dc3faeca",
   "metadata": {},
   "outputs": [],
   "source": [
    "3*2"
   ]
  },
  {
   "cell_type": "code",
   "execution_count": null,
   "id": "333e4bfa",
   "metadata": {},
   "outputs": [],
   "source": [
    "3.5**2"
   ]
  },
  {
   "cell_type": "markdown",
   "id": "da6c8191",
   "metadata": {},
   "source": [
    "## Tipos de objetos "
   ]
  },
  {
   "cell_type": "code",
   "execution_count": null,
   "id": "87c20b09",
   "metadata": {},
   "outputs": [],
   "source": [
    "type(3)"
   ]
  },
  {
   "cell_type": "code",
   "execution_count": null,
   "id": "9bdd0faa",
   "metadata": {},
   "outputs": [],
   "source": [
    "type(4.5)"
   ]
  },
  {
   "cell_type": "markdown",
   "id": "52aa43c2",
   "metadata": {},
   "source": [
    "También están las cadenas:"
   ]
  },
  {
   "cell_type": "code",
   "execution_count": null,
   "id": "9c996bc3",
   "metadata": {},
   "outputs": [],
   "source": [
    "'hola'"
   ]
  },
  {
   "cell_type": "code",
   "execution_count": null,
   "id": "0125ba4d",
   "metadata": {},
   "outputs": [],
   "source": [
    "type('hola')"
   ]
  },
  {
   "cell_type": "markdown",
   "id": "f064ff0d",
   "metadata": {},
   "source": [
    "y los booleanos"
   ]
  },
  {
   "cell_type": "code",
   "execution_count": null,
   "id": "bd0939cf",
   "metadata": {},
   "outputs": [],
   "source": [
    "True"
   ]
  },
  {
   "cell_type": "code",
   "execution_count": null,
   "id": "42e7443a",
   "metadata": {},
   "outputs": [],
   "source": [
    "type(True)"
   ]
  },
  {
   "cell_type": "markdown",
   "id": "47bcc85b",
   "metadata": {},
   "source": [
    "## Listas"
   ]
  },
  {
   "cell_type": "markdown",
   "id": "4c0ccc43",
   "metadata": {},
   "source": [
    "Las listas son otro objeto de python, para construirlas usamos **[ ]**, como en el siguiente ejemplo:"
   ]
  },
  {
   "cell_type": "code",
   "execution_count": null,
   "id": "b44e2e0a",
   "metadata": {},
   "outputs": [],
   "source": [
    "lista = [1,2,3]"
   ]
  },
  {
   "cell_type": "code",
   "execution_count": null,
   "id": "a110000f",
   "metadata": {},
   "outputs": [],
   "source": [
    "lista"
   ]
  },
  {
   "cell_type": "code",
   "execution_count": null,
   "id": "0f6f8b79",
   "metadata": {},
   "outputs": [],
   "source": [
    "type(lista)"
   ]
  },
  {
   "cell_type": "markdown",
   "id": "07058527",
   "metadata": {},
   "source": [
    "**Nota**: acabamos de construir una variable llamada **lista**, donde utilizamos el símbolo **=** para asignarle a dicha variable la lista **[1,2,3]**."
   ]
  },
  {
   "cell_type": "markdown",
   "id": "ba300607",
   "metadata": {},
   "source": [
    "Para la **creación de variables** debemos de tomar en cuenta lo siguiente:\n",
    "* No se puede comenzar el nombre con números, por ejemplo, es incorrecto escribir **2lista**.\n",
    "* No puedes usar símbolos, por ejemplo, es incorrecto escribir **#lista** o **lista#**. \n",
    "* Puedes comenzar con mayúscula o minúscula, pero lo más común es usar minúscula.\n",
    "* Cuando quieres crear una variable que contenga más de una palabra, se conectan con guión bajo, por ejemplo, **mi_lista**."
   ]
  },
  {
   "cell_type": "markdown",
   "id": "292ff92d",
   "metadata": {},
   "source": [
    "Las listas tienen la característica de que sus entradas pueden ser cualquier tipo de objetos, incluídas otras listas."
   ]
  },
  {
   "cell_type": "code",
   "execution_count": null,
   "id": "51ae2833",
   "metadata": {},
   "outputs": [],
   "source": [
    "lista2 = [4.5,\"gato\",False]"
   ]
  },
  {
   "cell_type": "code",
   "execution_count": null,
   "id": "a58eccb0",
   "metadata": {},
   "outputs": [],
   "source": [
    "lista2"
   ]
  },
  {
   "cell_type": "code",
   "execution_count": null,
   "id": "0b2ad93c",
   "metadata": {},
   "outputs": [],
   "source": [
    "type(lista2)"
   ]
  },
  {
   "cell_type": "code",
   "execution_count": null,
   "id": "f2cab46e",
   "metadata": {},
   "outputs": [],
   "source": [
    "lista3 = [[1,\"a\"],[2,\"b\"],[3,\"c\"]]"
   ]
  },
  {
   "cell_type": "code",
   "execution_count": null,
   "id": "e5e564fb",
   "metadata": {},
   "outputs": [],
   "source": [
    "type(lista3)"
   ]
  },
  {
   "cell_type": "markdown",
   "id": "2e3ea8ca",
   "metadata": {},
   "source": [
    "**Nota**: las operaciones como la suma actúan diferente sobre los diferentes objetos que tiene python, por ejemplo si sumamos dos listas:"
   ]
  },
  {
   "cell_type": "code",
   "execution_count": null,
   "id": "ebf529ca",
   "metadata": {},
   "outputs": [],
   "source": [
    "lista2+lista2"
   ]
  },
  {
   "cell_type": "code",
   "execution_count": null,
   "id": "dc4e8ffa",
   "metadata": {},
   "outputs": [],
   "source": [
    "3+\"x\""
   ]
  },
  {
   "cell_type": "markdown",
   "id": "2ceba0e3",
   "metadata": {},
   "source": [
    "Estas se concatenan."
   ]
  },
  {
   "cell_type": "markdown",
   "id": "00a73884",
   "metadata": {},
   "source": [
    "Si intentamos aplicar otra operación sobre las listas:"
   ]
  },
  {
   "cell_type": "code",
   "execution_count": null,
   "id": "a4846bd7",
   "metadata": {},
   "outputs": [],
   "source": [
    "lista2**2"
   ]
  },
  {
   "cell_type": "code",
   "execution_count": null,
   "id": "18c7c12e",
   "metadata": {},
   "outputs": [],
   "source": [
    "lista2-lista3"
   ]
  },
  {
   "cell_type": "markdown",
   "id": "1f3de5a3",
   "metadata": {},
   "source": [
    "Esto es porque python no puede aplicar las operaciones elemento a elemento en las listas, debido a que sus entradas pueden ser de cualquier tipo."
   ]
  },
  {
   "cell_type": "markdown",
   "id": "b2418376",
   "metadata": {},
   "source": [
    "### Selección de elementos en una lista"
   ]
  },
  {
   "cell_type": "markdown",
   "id": "1b51f3b9",
   "metadata": {},
   "source": [
    "Para seleccionar elementos de listas o cualquier otro tipo de objeto que por defecto va a asignar un índice a cada una de sus entradas, hay que considerar que python indexa a partir del cero, así, si queremos el primer elemento de **lista**, debemos de pedir a python al elemento cuyo índice es cero, para eso, utilizamos **[ ]** de la siguiente forma:"
   ]
  },
  {
   "cell_type": "code",
   "execution_count": null,
   "id": "ef677c10",
   "metadata": {},
   "outputs": [],
   "source": [
    "lista"
   ]
  },
  {
   "cell_type": "code",
   "execution_count": null,
   "id": "3bbe0267",
   "metadata": {},
   "outputs": [],
   "source": [
    "lista[0]"
   ]
  },
  {
   "cell_type": "markdown",
   "id": "26188249",
   "metadata": {},
   "source": [
    "por lo que el tercer elemento de **lista** es:"
   ]
  },
  {
   "cell_type": "code",
   "execution_count": null,
   "id": "131a9705",
   "metadata": {},
   "outputs": [],
   "source": [
    "lista[2]"
   ]
  },
  {
   "cell_type": "markdown",
   "id": "5d885834",
   "metadata": {},
   "source": [
    "Si seleccionamos elementos de **lista3** que es una lista de listas, esto es lo que pasa:"
   ]
  },
  {
   "cell_type": "code",
   "execution_count": null,
   "id": "af4d6b54",
   "metadata": {},
   "outputs": [],
   "source": [
    "lista3[0]"
   ]
  },
  {
   "cell_type": "markdown",
   "id": "86ccaf5e",
   "metadata": {},
   "source": [
    "el primer elemento es la primer lista contenida, así que si queremos elementos de cada sublista, hay que tomar en cuenta cómo indexa python; en cada sublista hay dos elementos, por lo que sólo se encuentran los índices 0 y 1, así que si queremos el segundo elemento de la primer sublista escribimos:"
   ]
  },
  {
   "cell_type": "code",
   "execution_count": null,
   "id": "6c6e7d3a",
   "metadata": {},
   "outputs": [],
   "source": [
    "lista3[0][1]"
   ]
  },
  {
   "cell_type": "markdown",
   "id": "68a3678f",
   "metadata": {},
   "source": [
    "**Nota**: cuando se seleccionan elementos como se hizo con **lista3**, no podemos hacer con corchetes simples, es decir **lista3[0,1]**, en otros lenguajes de programación es posible, pero no en python. Existen otros objetos con los que sí se pueden pedir los elementos de esta forma, pero los veremos más adelante."
   ]
  },
  {
   "cell_type": "markdown",
   "id": "3aaccf63",
   "metadata": {},
   "source": [
    "Ahora veremos cómo seleccionar múltiples elementos, para ellos construyamos una lista de longitud mayor a las anteriores:"
   ]
  },
  {
   "cell_type": "code",
   "execution_count": null,
   "id": "f7ee24a5",
   "metadata": {},
   "outputs": [],
   "source": [
    "lista4 = list(range(10))"
   ]
  },
  {
   "cell_type": "code",
   "execution_count": null,
   "id": "eb938a9e",
   "metadata": {},
   "outputs": [],
   "source": [
    "lista4"
   ]
  },
  {
   "cell_type": "markdown",
   "id": "95a7b844",
   "metadata": {},
   "source": [
    "Si queremos seleccionar múltiples elementos de una lista, la estructura es la siguiente:"
   ]
  },
  {
   "cell_type": "markdown",
   "id": "4bfa6ff5",
   "metadata": {},
   "source": [
    "lista[ indice_primer_elemento:indice_ultimo_elemento + 1 ]"
   ]
  },
  {
   "cell_type": "markdown",
   "id": "a4ef815b",
   "metadata": {},
   "source": [
    "Así, para obtener los elementos de **lista4** de tercero al quinto (índices 2 al 4), debemos escribir:"
   ]
  },
  {
   "cell_type": "code",
   "execution_count": null,
   "id": "10886399",
   "metadata": {},
   "outputs": [],
   "source": [
    "lista4[2:5]"
   ]
  },
  {
   "cell_type": "markdown",
   "id": "f58c5696",
   "metadata": {},
   "source": [
    "Si dejamos vacío el espacio donde se indica el índice del primer elemento, python muestra desde el primer elemento: "
   ]
  },
  {
   "cell_type": "code",
   "execution_count": null,
   "id": "82bc10d6",
   "metadata": {},
   "outputs": [],
   "source": [
    "lista4[:5]"
   ]
  },
  {
   "cell_type": "markdown",
   "id": "36baa153",
   "metadata": {},
   "source": [
    "Si dejamos vacío el espacio para el último elemento, por defecto obtendremos hasta el último elemento:"
   ]
  },
  {
   "cell_type": "code",
   "execution_count": null,
   "id": "7ce1bd32",
   "metadata": {},
   "outputs": [],
   "source": [
    "lista4[2:]"
   ]
  },
  {
   "cell_type": "code",
   "execution_count": null,
   "id": "75b2e8cb",
   "metadata": {},
   "outputs": [],
   "source": [
    "lista4[::]"
   ]
  },
  {
   "cell_type": "markdown",
   "id": "7e8ff555",
   "metadata": {},
   "source": [
    "Como se ha observado, cuando seleccionamos múltiples elementos, python nos arroja de forma continua a cada uno de ellos de acuerdo al rango que pusimos, es posible definir en este rango cada cuántas unidades se deben mostrar estos números. Por ejemplo, seleccionemos los elementos de **lista4** desde el segundo hasta el sexto con pasos de dos unidades:"
   ]
  },
  {
   "cell_type": "code",
   "execution_count": null,
   "id": "33100ae4",
   "metadata": {},
   "outputs": [],
   "source": [
    "lista4[1:6:2]"
   ]
  },
  {
   "cell_type": "markdown",
   "id": "2be61604",
   "metadata": {},
   "source": [
    "También podemos usar el símbolo **:** para pedir todos los elementos de la lista:"
   ]
  },
  {
   "cell_type": "code",
   "execution_count": null,
   "id": "c81f77cb",
   "metadata": {},
   "outputs": [],
   "source": [
    "lista4[::]"
   ]
  },
  {
   "cell_type": "markdown",
   "id": "d3f417b4",
   "metadata": {},
   "source": [
    "Por último, python también indexa con números negativos, estos empiezan con el último número, el cual siempre va a tener el índice **-1**, el penúltimo tendrá el índice **-2** y así sucesivamente, esto es muy útil cuando no conoces la longitud de la lista que estás manipulando."
   ]
  },
  {
   "cell_type": "code",
   "execution_count": null,
   "id": "d6d85cf5",
   "metadata": {},
   "outputs": [],
   "source": [
    "lista4[-1]"
   ]
  },
  {
   "cell_type": "code",
   "execution_count": null,
   "id": "a3b48d38",
   "metadata": {},
   "outputs": [],
   "source": [
    "lista4[-4:-2]"
   ]
  },
  {
   "cell_type": "code",
   "execution_count": null,
   "id": "60af91f5",
   "metadata": {},
   "outputs": [],
   "source": [
    "lista4[::-1]"
   ]
  },
  {
   "cell_type": "markdown",
   "id": "4d9870e5",
   "metadata": {},
   "source": [
    "## Funciones y métodos"
   ]
  },
  {
   "cell_type": "markdown",
   "id": "a1d894c4",
   "metadata": {},
   "source": [
    "Existen funciones por defecto en python, justo ya vimos las funciones **type()**, **list()** y **range()**."
   ]
  },
  {
   "cell_type": "code",
   "execution_count": null,
   "id": "e116776a",
   "metadata": {},
   "outputs": [],
   "source": [
    "del[lista[-1]]"
   ]
  },
  {
   "cell_type": "code",
   "execution_count": null,
   "id": "104f2a54",
   "metadata": {},
   "outputs": [],
   "source": [
    "lista"
   ]
  },
  {
   "cell_type": "code",
   "execution_count": null,
   "id": "8d7d1414",
   "metadata": {},
   "outputs": [],
   "source": [
    "len(lista3)"
   ]
  },
  {
   "cell_type": "code",
   "execution_count": null,
   "id": "a4c7216e",
   "metadata": {},
   "outputs": [],
   "source": [
    "len(lista3[1])"
   ]
  },
  {
   "cell_type": "code",
   "execution_count": null,
   "id": "005632f1",
   "metadata": {},
   "outputs": [],
   "source": [
    "round(7/3,2)"
   ]
  },
  {
   "cell_type": "markdown",
   "id": "1e23047f",
   "metadata": {},
   "source": [
    "Cuando no sepamos qué es lo que hace una función, podemos recurrir a la documentación, para ello usamos la función **help()**."
   ]
  },
  {
   "cell_type": "code",
   "execution_count": null,
   "id": "016e8a33",
   "metadata": {},
   "outputs": [],
   "source": [
    "help(round)"
   ]
  },
  {
   "cell_type": "markdown",
   "id": "a12672c9",
   "metadata": {},
   "source": [
    "Los métodos son funciones que actúan específicamente sobre cierto tipo de objetos, su sintaxis es diferente a las funciones. Usemos algunos métodos de cadenas como ejemplo:"
   ]
  },
  {
   "cell_type": "code",
   "execution_count": null,
   "id": "955f81f4",
   "metadata": {},
   "outputs": [],
   "source": [
    "nombre = \"laura\""
   ]
  },
  {
   "cell_type": "code",
   "execution_count": null,
   "id": "e87e64b9",
   "metadata": {},
   "outputs": [],
   "source": [
    "nombre.capitalize()"
   ]
  },
  {
   "cell_type": "code",
   "execution_count": null,
   "id": "0a33df21",
   "metadata": {},
   "outputs": [],
   "source": [
    "nombre"
   ]
  },
  {
   "cell_type": "code",
   "execution_count": null,
   "id": "9a912f04",
   "metadata": {},
   "outputs": [],
   "source": [
    "nombre.upper()"
   ]
  },
  {
   "cell_type": "code",
   "execution_count": null,
   "id": "e7d27b8b",
   "metadata": {},
   "outputs": [],
   "source": [
    "nombre.replace(\"a\",\"4\")"
   ]
  },
  {
   "cell_type": "markdown",
   "id": "0ebeff6c",
   "metadata": {},
   "source": [
    "También es posible usar la función **help** para buscar información sobre un método en específico, para eso escribimos **help(variable.metodo)**."
   ]
  },
  {
   "cell_type": "code",
   "execution_count": null,
   "id": "1f027aba",
   "metadata": {},
   "outputs": [],
   "source": [
    "help(nombre.index)"
   ]
  },
  {
   "cell_type": "code",
   "execution_count": null,
   "id": "a4712545",
   "metadata": {},
   "outputs": [],
   "source": [
    "nombre.index(\"a\")"
   ]
  },
  {
   "cell_type": "markdown",
   "id": "14ffcd70",
   "metadata": {},
   "source": [
    "## Qué ocurre cuando asignas variables?"
   ]
  },
  {
   "cell_type": "markdown",
   "id": "c1d44809",
   "metadata": {},
   "source": [
    "Hay algo muy importante a tomar en cuenta si decidimos asignar dos variables distintas al mismo objeto, por ejemplo, tenemos la lista:"
   ]
  },
  {
   "cell_type": "code",
   "execution_count": null,
   "id": "4f74e8ef",
   "metadata": {},
   "outputs": [],
   "source": [
    "x = [\"a\",\"b\",\"c\"]"
   ]
  },
  {
   "cell_type": "markdown",
   "id": "1fa5245b",
   "metadata": {},
   "source": [
    "y asignamos una nueva variable a esta lista"
   ]
  },
  {
   "cell_type": "code",
   "execution_count": null,
   "id": "4143ed8d",
   "metadata": {},
   "outputs": [],
   "source": [
    "y = x"
   ]
  },
  {
   "cell_type": "code",
   "execution_count": null,
   "id": "6124c37b",
   "metadata": {},
   "outputs": [],
   "source": [
    "y"
   ]
  },
  {
   "cell_type": "markdown",
   "id": "925f14ee",
   "metadata": {},
   "source": [
    "lo que se espera es que ahora **y** sea una copia de **x**, y que cualquier cambio que se haga en **x** no afecte a **y** y viceversa. Hagamos un cambio en **x** para comprobar:"
   ]
  },
  {
   "cell_type": "code",
   "execution_count": null,
   "id": "cc92d4ba",
   "metadata": {},
   "outputs": [],
   "source": [
    "y[-1] = \"z\""
   ]
  },
  {
   "cell_type": "code",
   "execution_count": null,
   "id": "b173f13a",
   "metadata": {},
   "outputs": [],
   "source": [
    "x"
   ]
  },
  {
   "cell_type": "markdown",
   "id": "e93048ab",
   "metadata": {},
   "source": [
    "Por qué los cambios que se hicieron en **x** sí afectaron a **y**? Esto es porque python lo que hace cuando asignamos un objeto a una variable es asignar realmente la referencia de dicho objeto en la memoria, así que tanto **x** como **y** tiene la misma referencia, si nosotros hacemos un cambio en cualquiera de las variables, esto se modifica desde la referencia en la memoria, por lo que todas las variables relacionadas a este objeto serán modificadas."
   ]
  },
  {
   "cell_type": "markdown",
   "id": "499ddaf4",
   "metadata": {},
   "source": [
    "Si queremos tener una copia de una lista para poder manipularla sin afectar a la lista original, podemos hacer dos cosas:"
   ]
  },
  {
   "cell_type": "code",
   "execution_count": null,
   "id": "58f1816e",
   "metadata": {},
   "outputs": [],
   "source": [
    "y = list(x)"
   ]
  },
  {
   "cell_type": "code",
   "execution_count": null,
   "id": "6b8ec5a1",
   "metadata": {},
   "outputs": [],
   "source": [
    "y = x[:]"
   ]
  },
  {
   "cell_type": "code",
   "execution_count": null,
   "id": "37da4f93",
   "metadata": {},
   "outputs": [],
   "source": [
    "y.append(\"d\")"
   ]
  },
  {
   "cell_type": "code",
   "execution_count": null,
   "id": "546209af",
   "metadata": {},
   "outputs": [],
   "source": [
    "y"
   ]
  },
  {
   "cell_type": "code",
   "execution_count": null,
   "id": "e9c35f59",
   "metadata": {},
   "outputs": [],
   "source": [
    "x"
   ]
  },
  {
   "cell_type": "markdown",
   "id": "7921ee59",
   "metadata": {},
   "source": [
    "## Paquetes "
   ]
  },
  {
   "cell_type": "markdown",
   "id": "03c4615c",
   "metadata": {},
   "source": [
    "Python tiene muchas funciones y métodos ya construidos para muchos objetivos, por ejemplo, para la visualización de datos, manipulación de arreglos, machine learning, etc. Para que no sea un desastre trabajar con tantas funciones y métodos, Python tiene distintos paquetes para distintos objetivos. "
   ]
  },
  {
   "cell_type": "markdown",
   "id": "2c803f59",
   "metadata": {},
   "source": [
    "Para recurrir a un paquete, hay que usar **import**, además, una vez que se importe el paquete, se tiene que especificar cuando una función proviene de él, para ellos se tiene que escribir **nombre_del_paquete.funcion()**."
   ]
  },
  {
   "cell_type": "markdown",
   "id": "dfb30606",
   "metadata": {},
   "source": [
    "También es posible asignar un alias al nombre del paquete, para que sea más sencillo usar sus funciones, para asignar este alias la sintaxis es la siguiente:"
   ]
  },
  {
   "cell_type": "markdown",
   "id": "80200259",
   "metadata": {},
   "source": [
    "**import** paquete **as** alias"
   ]
  },
  {
   "cell_type": "markdown",
   "id": "648b02d1",
   "metadata": {},
   "source": [
    "Vamos a importar un paquete muy utilizado en el que se manipulan objetos llamados arreglos, los cuales veremos con detalle, este paquete se llama **numpy** y suele usar como alias **np**:"
   ]
  },
  {
   "cell_type": "code",
   "execution_count": null,
   "id": "98bdc743",
   "metadata": {},
   "outputs": [],
   "source": [
    "import numpy as np"
   ]
  },
  {
   "cell_type": "markdown",
   "id": "d725473b",
   "metadata": {},
   "source": [
    "Hagamos algo muy sencillo, convirtamos a **lista4** en un arreglo de numpy, usando la función **np.array()**:"
   ]
  },
  {
   "cell_type": "code",
   "execution_count": null,
   "id": "ba637411",
   "metadata": {},
   "outputs": [],
   "source": [
    "lista4_np = np.array(lista4)"
   ]
  },
  {
   "cell_type": "code",
   "execution_count": null,
   "id": "803219b2",
   "metadata": {},
   "outputs": [],
   "source": [
    "lista4_np"
   ]
  },
  {
   "cell_type": "code",
   "execution_count": null,
   "id": "139281b0",
   "metadata": {},
   "outputs": [],
   "source": [
    "type(lista4_np)"
   ]
  },
  {
   "cell_type": "code",
   "execution_count": null,
   "id": "3ed67f5c",
   "metadata": {},
   "outputs": [],
   "source": [
    "prueba = np.copy(lista4_np)"
   ]
  },
  {
   "cell_type": "code",
   "execution_count": null,
   "id": "354b4a5f",
   "metadata": {},
   "outputs": [],
   "source": [
    "lista4_np[1] = 35"
   ]
  },
  {
   "cell_type": "code",
   "execution_count": null,
   "id": "2547dc71",
   "metadata": {},
   "outputs": [],
   "source": [
    "lista4_np"
   ]
  },
  {
   "cell_type": "code",
   "execution_count": null,
   "id": "71f7860d",
   "metadata": {},
   "outputs": [],
   "source": [
    "prueba"
   ]
  },
  {
   "cell_type": "markdown",
   "id": "01c1c153",
   "metadata": {},
   "source": [
    "## Arreglos"
   ]
  },
  {
   "cell_type": "markdown",
   "id": "3e7e893d",
   "metadata": {},
   "source": [
    "Ya vimos que con las listas podemos guardar varios objetos a la vez, pero no podemos manipularlos al mismo tiempo. Existe un objeto en numpy con el cual sí es posible la manipulación simultánea, el **arreglo** o **array**. "
   ]
  },
  {
   "cell_type": "markdown",
   "id": "f16d4b32",
   "metadata": {},
   "source": [
    "Hagamos un arreglo de numpy, que contenga números aleatorios generados con una distribución uniforme. La generación de números aleatorios se hace con una función de numpy, **np.random**, para indicar con qué tipo de distribución queremos los números, veamos la documentación:"
   ]
  },
  {
   "cell_type": "code",
   "execution_count": null,
   "id": "e64771d7",
   "metadata": {},
   "outputs": [],
   "source": [
    "help(np.random)"
   ]
  },
  {
   "cell_type": "code",
   "execution_count": null,
   "id": "04791f89",
   "metadata": {},
   "outputs": [],
   "source": [
    "help(np.random.uniform)"
   ]
  },
  {
   "cell_type": "code",
   "execution_count": null,
   "id": "436fbb5a",
   "metadata": {},
   "outputs": [],
   "source": [
    "np.random.uniform(-10,10,20)"
   ]
  },
  {
   "cell_type": "code",
   "execution_count": null,
   "id": "67f82de2",
   "metadata": {},
   "outputs": [],
   "source": [
    "primer_arreglo = np.random.uniform(-10,10,20)"
   ]
  },
  {
   "cell_type": "code",
   "execution_count": null,
   "id": "b649389c",
   "metadata": {},
   "outputs": [],
   "source": [
    "primer_arreglo"
   ]
  },
  {
   "cell_type": "code",
   "execution_count": null,
   "id": "95ccc332",
   "metadata": {},
   "outputs": [],
   "source": [
    "segundo_arreglo = np.random.uniform(-5,5,20)"
   ]
  },
  {
   "cell_type": "code",
   "execution_count": null,
   "id": "e09d338c",
   "metadata": {},
   "outputs": [],
   "source": [
    "segundo_arreglo"
   ]
  },
  {
   "cell_type": "markdown",
   "id": "fc292194",
   "metadata": {},
   "source": [
    "Ahora, hagamos una suma sobre estos dos arreglos"
   ]
  },
  {
   "cell_type": "code",
   "execution_count": null,
   "id": "e8938a6a",
   "metadata": {},
   "outputs": [],
   "source": [
    "primer_arreglo + segundo_arreglo"
   ]
  },
  {
   "cell_type": "markdown",
   "id": "0479c7ae",
   "metadata": {},
   "source": [
    "y si hacemos otras operaciones sobre ellos "
   ]
  },
  {
   "cell_type": "code",
   "execution_count": null,
   "id": "e361b209",
   "metadata": {},
   "outputs": [],
   "source": [
    "primer_arreglo/segundo_arreglo"
   ]
  },
  {
   "cell_type": "markdown",
   "id": "b32b60be",
   "metadata": {},
   "source": [
    "Es posible hacerlo, python en este caso sí aplica la operación elemento a elemento."
   ]
  },
  {
   "cell_type": "markdown",
   "id": "2f4ff6e7",
   "metadata": {},
   "source": [
    "Recordemos que con las listas no se puede aplicar una operación elemento a elemento, ya que es posible tener varios tipos de elementos. Entonces, con los arreglos es posible tener varios tipo de elementos? Hagamos la prueba: "
   ]
  },
  {
   "cell_type": "code",
   "execution_count": null,
   "id": "26e6d064",
   "metadata": {},
   "outputs": [],
   "source": [
    "arreglo_prueba = np.array([1.0,\"hola\",True])"
   ]
  },
  {
   "cell_type": "code",
   "execution_count": null,
   "id": "098048c9",
   "metadata": {},
   "outputs": [],
   "source": [
    "arreglo_prueba"
   ]
  },
  {
   "cell_type": "markdown",
   "id": "724893c8",
   "metadata": {},
   "source": [
    "Vemos que por defecto, todos los elementos se convirtieron en cadenas, así que python te obliga a tener el mismo tipo de objeto para todos los elementos de un arreglo."
   ]
  },
  {
   "cell_type": "markdown",
   "id": "d701a7df",
   "metadata": {},
   "source": [
    "### Arreglos en 2D"
   ]
  },
  {
   "cell_type": "markdown",
   "id": "c4962704",
   "metadata": {},
   "source": [
    "Esta característica de los arreglos no nos impide tener un arreglo de arreglos:"
   ]
  },
  {
   "cell_type": "code",
   "execution_count": null,
   "id": "454ea162",
   "metadata": {},
   "outputs": [],
   "source": [
    "arreglo_anidado = np.array([primer_arreglo,segundo_arreglo])"
   ]
  },
  {
   "cell_type": "code",
   "execution_count": null,
   "id": "2ce1e106",
   "metadata": {},
   "outputs": [],
   "source": [
    "arreglo_anidado.transpose().shape"
   ]
  },
  {
   "cell_type": "code",
   "execution_count": null,
   "id": "cd46efec",
   "metadata": {},
   "outputs": [],
   "source": [
    "arreglo_anidado"
   ]
  },
  {
   "cell_type": "markdown",
   "id": "64ff8b14",
   "metadata": {},
   "source": [
    "Para ver cuántas filas y cuántas columnas tiene nuestro arreglo usamso el **atributo shape**:"
   ]
  },
  {
   "cell_type": "code",
   "execution_count": null,
   "id": "83b4a3cf",
   "metadata": {},
   "outputs": [],
   "source": [
    "arreglo_anidado.shape"
   ]
  },
  {
   "cell_type": "markdown",
   "id": "a923aeca",
   "metadata": {},
   "source": [
    "### Selección de elementos en un arreglo "
   ]
  },
  {
   "cell_type": "markdown",
   "id": "05b89365",
   "metadata": {},
   "source": [
    "Al igual que con las listas, python indexa los arreglos a partir del cero, y aquí también utilizamos los corchetes para hacer la selección. Así si, queremos el tercer elemento de **primer_arreglo**, escribimos:"
   ]
  },
  {
   "cell_type": "code",
   "execution_count": null,
   "id": "78ccf38d",
   "metadata": {},
   "outputs": [],
   "source": [
    "primer_arreglo[2]"
   ]
  },
  {
   "cell_type": "markdown",
   "id": "4edadef2",
   "metadata": {},
   "source": [
    "La selección de múltiples elementos en los arreglos tiene la misma dinámica que con las listas, entonces, si queremos los elementos 4to. a 13vo. de **segundo_arreglo** escribimos:"
   ]
  },
  {
   "cell_type": "code",
   "execution_count": null,
   "id": "7acdfacf",
   "metadata": {},
   "outputs": [],
   "source": [
    "segundo_arreglo[3:13]"
   ]
  },
  {
   "cell_type": "markdown",
   "id": "1d19fb3e",
   "metadata": {},
   "source": [
    "En el caso de arreglos en 2D, podemos indicar el índice de la fila (subarreglo) y columna (elemento del subarreglo) que queramos en un sólo par de corchetes. Entonces, si queremos el elemento de la segunda fila y 18va. columna, escribimos:"
   ]
  },
  {
   "cell_type": "code",
   "execution_count": null,
   "id": "104732f5",
   "metadata": {},
   "outputs": [],
   "source": [
    "arreglo_anidado[1,17]"
   ]
  },
  {
   "cell_type": "markdown",
   "id": "fbe19c0c",
   "metadata": {},
   "source": [
    "También podemos indicar si queremos todas las filas seleccionando una columna en específico, por ejemplo, si queremos todas las filas de **arreglo_anidado**, para la columna 15, escribimos: "
   ]
  },
  {
   "cell_type": "code",
   "execution_count": null,
   "id": "ae5c8167",
   "metadata": {},
   "outputs": [],
   "source": [
    "arreglo_anidado[:,14]"
   ]
  },
  {
   "cell_type": "markdown",
   "id": "a3b4abc3",
   "metadata": {},
   "source": [
    "También podemos escoger columnas en específico:"
   ]
  },
  {
   "cell_type": "code",
   "execution_count": null,
   "id": "f714a31a",
   "metadata": {},
   "outputs": [],
   "source": [
    "arreglo_anidado[0,17:]"
   ]
  },
  {
   "cell_type": "code",
   "execution_count": null,
   "id": "9ce3c775",
   "metadata": {},
   "outputs": [],
   "source": []
  }
 ],
 "metadata": {
  "kernelspec": {
   "display_name": "Python 3 (ipykernel)",
   "language": "python",
   "name": "python3"
  },
  "language_info": {
   "codemirror_mode": {
    "name": "ipython",
    "version": 3
   },
   "file_extension": ".py",
   "mimetype": "text/x-python",
   "name": "python",
   "nbconvert_exporter": "python",
   "pygments_lexer": "ipython3",
   "version": "3.8.12"
  }
 },
 "nbformat": 4,
 "nbformat_minor": 5
}
