{
 "cells": [
  {
   "cell_type": "markdown",
   "id": "d2625d56",
   "metadata": {},
   "source": [
    "# Funciones"
   ]
  },
  {
   "cell_type": "markdown",
   "id": "67f9747c",
   "metadata": {},
   "source": [
    "En varias ocasiones, vamos a escribir la misma lógica muchas veces, pero esto, es una mala práctica, no lo tenemos que hacer. Para evitar escribir varias veces el mismo código, en programación se utilizan las **funciones**."
   ]
  },
  {
   "cell_type": "markdown",
   "id": "9165033a",
   "metadata": {},
   "source": [
    "En Python, la sintaxis para construir una función es la siguiente:"
   ]
  },
  {
   "cell_type": "markdown",
   "id": "054995ef",
   "metadata": {},
   "source": [
    "def nombre_de_la_funcion():\n",
    "    expresion"
   ]
  },
  {
   "cell_type": "markdown",
   "id": "98b016e4",
   "metadata": {},
   "source": [
    "como vimos en los casos anterior, es importantes dejar los espaciones dentro del cuerpo de la función. Vemos que una vez que definimos el nombre de la función colocamos paréntesis, esto es porque nuestra función puede o no recibir argumentos, todo depende de su construcción."
   ]
  },
  {
   "cell_type": "markdown",
   "id": "a0018dc4",
   "metadata": {},
   "source": [
    "Como ejemplo, hagamos una función que busque si un número es múltiplo de 2, 3, los dos o ninguno de los anteriores, y que arroje un texto con dicha información:"
   ]
  },
  {
   "cell_type": "code",
   "execution_count": null,
   "id": "4a38d71c",
   "metadata": {},
   "outputs": [],
   "source": [
    "def multiplos(num):\n",
    "    if num % 6 == 0:\n",
    "        print('{} es múltiplo de 2 y 3.'.format(num))\n",
    "    elif num % 2 == 0:\n",
    "        print('{} es múltiplo de 2.'.format(num))\n",
    "    elif num % 3 == 0:\n",
    "        print('{} es múltiplo de 3.'.format(num))\n",
    "    else:\n",
    "        print('{} no es múltiplo ni de 2 ni de 3.'.format(num))"
   ]
  },
  {
   "cell_type": "markdown",
   "id": "afadda77",
   "metadata": {},
   "source": [
    "Una vez definda la función, podemos llamarla cuantas veces queramos."
   ]
  },
  {
   "cell_type": "code",
   "execution_count": null,
   "id": "f69f5b4f",
   "metadata": {},
   "outputs": [],
   "source": [
    "multiplos(4)"
   ]
  },
  {
   "cell_type": "markdown",
   "id": "1ffbce88",
   "metadata": {},
   "source": [
    "En este ejemplo, lo que arroja la función es texto, pero habrá ocasiones en las que queramos una función que manipule los argumentos de entrada y arroje un objeto después, por ejemplo, podemos crear una función que reciba como entrada el peso y estatura de una persona y arroje su índice de masa corporal como un número. Para estos casos, es necesario agregar **return** a nuestra función. "
   ]
  },
  {
   "cell_type": "markdown",
   "id": "61a4ac79",
   "metadata": {},
   "source": [
    "Construyamos justo una función que calcule el IMC como ejemplo:"
   ]
  },
  {
   "cell_type": "code",
   "execution_count": null,
   "id": "de8e8177",
   "metadata": {},
   "outputs": [],
   "source": [
    "def IMC(peso, estatura):\n",
    "    imc = peso/estatura**2\n",
    "    return imc"
   ]
  },
  {
   "cell_type": "markdown",
   "id": "3b35743e",
   "metadata": {},
   "source": [
    "Con esta función tendremos el índice de masa corporal como un número flotante, al cual le podemos asignar una variable como a cualquier otro número:"
   ]
  },
  {
   "cell_type": "code",
   "execution_count": null,
   "id": "3caadb08",
   "metadata": {},
   "outputs": [],
   "source": [
    "IMC(70, 1.65)"
   ]
  },
  {
   "cell_type": "code",
   "execution_count": null,
   "id": "b8911135",
   "metadata": {},
   "outputs": [],
   "source": [
    "imc_p1 = IMC(70, 1.65)"
   ]
  },
  {
   "cell_type": "code",
   "execution_count": null,
   "id": "5698cf4f",
   "metadata": {},
   "outputs": [],
   "source": [
    "imc_p1"
   ]
  },
  {
   "cell_type": "code",
   "execution_count": null,
   "id": "c7a5b36f",
   "metadata": {},
   "outputs": [],
   "source": [
    "type(imc_p1)"
   ]
  },
  {
   "cell_type": "markdown",
   "id": "59cab860",
   "metadata": {},
   "source": [
    "## break y continue "
   ]
  },
  {
   "cell_type": "markdown",
   "id": "72e365c4",
   "metadata": {},
   "source": [
    "En Python, es posible modificar el funcionamiento natural de un ciclo, esto se puede utilizar cuando queramos ejecutar ciertas vueltas del ciclo y ciertas vueltas no; o al momento de llegar a determinada vuelta, cortar el ciclo. Esta modificación dentro de los bucles se puede lograr con **break** y **continue**."
   ]
  },
  {
   "cell_type": "markdown",
   "id": "c7a2b844",
   "metadata": {},
   "source": [
    "continue se utiliza cuando queremos que ciertas iteraciones de nuestro ciclo no se ejecuten. Ejemplo, queremos imprimir los números del 1 al 50, pero sólo aquellos que sean pares, podemos crear un ciclo for cuya secuencia vaya del 1 al 50, y que cada vez que se tope con un número par, salte esa iteración y se vaya a al siguiente. La sintaxis para este ciclo es el siguiente: "
   ]
  },
  {
   "cell_type": "code",
   "execution_count": null,
   "id": "3c7825fe",
   "metadata": {},
   "outputs": [],
   "source": [
    "for num in range(1,51):\n",
    "    if num % 2 != 0:\n",
    "        continue\n",
    "    print(num)"
   ]
  },
  {
   "cell_type": "markdown",
   "id": "b43e7fa2",
   "metadata": {},
   "source": [
    "break sirve cuando queremos que en determinado punto, nuestro ciclo se detenga y se corte el proceso. Imaginemos que queremos imprimir los números que están dentro de cierto rango, pero en cuanto aparezca cierto número, detenemos el proceso; la sintaxis para llevar a cabo esto es el siguiente:"
   ]
  },
  {
   "cell_type": "code",
   "execution_count": null,
   "id": "9dc56ce6",
   "metadata": {},
   "outputs": [],
   "source": [
    "for i in range(1,101):\n",
    "    print(i)\n",
    "    if i % 8 == 0 and i % 9 == 0:\n",
    "        break"
   ]
  },
  {
   "cell_type": "markdown",
   "id": "647d1ed3",
   "metadata": {},
   "source": [
    "### Prueba de primalidad"
   ]
  },
  {
   "cell_type": "code",
   "execution_count": null,
   "id": "876cf1b4",
   "metadata": {},
   "outputs": [],
   "source": [
    "from math import sqrt\n",
    "def es_primo(numero):\n",
    "    contador = 0\n",
    "    if numero > 1:\n",
    "        for i in range(2, int(sqrt(numero)) + 1):\n",
    "            if numero % i == 0:\n",
    "                contador = 1\n",
    "                break\n",
    "        if contador == 0:\n",
    "            return print('{} es un número primo.'.format(numero))\n",
    "        else:\n",
    "            return print('{} no es un número primo.'.format(numero))"
   ]
  },
  {
   "cell_type": "code",
   "execution_count": null,
   "id": "1767b834",
   "metadata": {},
   "outputs": [],
   "source": [
    "es_primo(13)"
   ]
  },
  {
   "cell_type": "markdown",
   "id": "e41fc097",
   "metadata": {},
   "source": [
    "# List and dictionary comprehensions"
   ]
  },
  {
   "cell_type": "markdown",
   "id": "9a688314",
   "metadata": {},
   "source": [
    "## Lists comprehensions"
   ]
  },
  {
   "cell_type": "markdown",
   "id": "e44d859c",
   "metadata": {},
   "source": [
    "Para entender qué es un list comprehension y cómo se usa, hagamos primero una función con las herramientas que conocemos hasta el momento, después aplicaremos a la función esta nueva herramienta."
   ]
  },
  {
   "cell_type": "markdown",
   "id": "76255cf0",
   "metadata": {},
   "source": [
    "Supongamos que queremos el cuadrado de los primeros 50 números naturales que no sean divisibles por 3, para lograr esto, podemos usar un ciclo **for** que recorre una lista con estos 50 números, escoja a aquellos que cumplan con la condición, y almacene su valor al cuadrado en una lista:"
   ]
  },
  {
   "cell_type": "code",
   "execution_count": null,
   "id": "49559b05",
   "metadata": {},
   "outputs": [],
   "source": [
    "def squares():\n",
    "    lista = []\n",
    "    for i in range(1,51):\n",
    "        if i % 3 != 0:\n",
    "            lista.append(i**2)\n",
    "    return lista"
   ]
  },
  {
   "cell_type": "code",
   "execution_count": null,
   "id": "182f4606",
   "metadata": {},
   "outputs": [],
   "source": [
    "squares()"
   ]
  },
  {
   "cell_type": "markdown",
   "id": "74d4163b",
   "metadata": {},
   "source": [
    "El paso en el que asignamos elementos a una lista de acuerdo a una condición dada, se puede hacer con una sola línea de código, a través de un **list comprehension**, incluso no será necesario definir una lista vacía previamente. La sintaxis para este tipo de listas es la siguiente:"
   ]
  },
  {
   "cell_type": "code",
   "execution_count": null,
   "id": "f22ac3f6",
   "metadata": {},
   "outputs": [],
   "source": [
    "lista = [resultado for var in sec if condicion (opcional)]"
   ]
  },
  {
   "cell_type": "markdown",
   "id": "38089e5c",
   "metadata": {},
   "source": [
    "Entonces, dentro de corchetes, indicamos en primer lugar qué es lo que queremos que se almacene en nuestra lista, después la iteración que se va a llevar a cabo, y si hay alguna condición para el almacenamiento de los elementos, esta se coloca después de indicar la iteración. Además, a esta lista se le puede asignar una variable para una mejor manipulación."
   ]
  },
  {
   "cell_type": "markdown",
   "id": "e876a008",
   "metadata": {},
   "source": [
    "Así que en nuestro caso, para construir un list comprehension, como resultado tendremos a los números de la lista al cuadrado, estos números van de 1 a 50, y cumplen la condición de que no son divisibles por 3, por lo que la sintaxis será la siguiente:"
   ]
  },
  {
   "cell_type": "code",
   "execution_count": null,
   "id": "598230ae",
   "metadata": {},
   "outputs": [],
   "source": [
    "def squares():\n",
    "    lista = [i**2 for i in range(1,51) if i % 3 != 0]\n",
    "    return lista"
   ]
  },
  {
   "cell_type": "code",
   "execution_count": null,
   "id": "127737a8",
   "metadata": {},
   "outputs": [],
   "source": [
    "[i for i in range(1,21) if i % 2 == 0]"
   ]
  },
  {
   "cell_type": "code",
   "execution_count": null,
   "id": "2873e604",
   "metadata": {},
   "outputs": [],
   "source": [
    "squares()"
   ]
  },
  {
   "cell_type": "markdown",
   "id": "10d50cd1",
   "metadata": {},
   "source": [
    "### Dictionary comprehension "
   ]
  },
  {
   "cell_type": "markdown",
   "id": "5a56e5d2",
   "metadata": {},
   "source": [
    "También es posible crear diccionarios con una sola línea de código, mediante los **dictionay comprehensions**, la sintaxis es bastante parecida a la de las listas."
   ]
  },
  {
   "cell_type": "markdown",
   "id": "8a60f1fb",
   "metadata": {},
   "source": [
    "Para que quede más claro, primero vamos a crear un diccionario con las herramientas actuales, después lo cambiaremos por un dictionary comprehension."
   ]
  },
  {
   "cell_type": "markdown",
   "id": "fea2e7ba",
   "metadata": {},
   "source": [
    "Hagamos un diccionario que como clave tenga al número de nuestra secuencia, sólo si dicho número no es divisible por tres, y como valor cada clave tendrá a su correspondiente valor al cubo; la secuencia será de los primeros 50 números naturales."
   ]
  },
  {
   "cell_type": "code",
   "execution_count": null,
   "id": "6763abd4",
   "metadata": {},
   "outputs": [],
   "source": [
    "def cubo():\n",
    "    dic = {}\n",
    "    for i in range(1,51):\n",
    "        if i % 3 != 0:\n",
    "            dic[i] = i**3\n",
    "    return dic"
   ]
  },
  {
   "cell_type": "code",
   "execution_count": null,
   "id": "4102726a",
   "metadata": {},
   "outputs": [],
   "source": [
    "cubo()"
   ]
  },
  {
   "cell_type": "markdown",
   "id": "ee7df6e1",
   "metadata": {},
   "source": [
    "La sintaxis para un dictionary comprehension es la siguiente:"
   ]
  },
  {
   "cell_type": "code",
   "execution_count": null,
   "id": "bd1e8c3e",
   "metadata": {},
   "outputs": [],
   "source": [
    "diccionario = {clave:valor for i in sec if condicion (opcional)}"
   ]
  },
  {
   "cell_type": "markdown",
   "id": "b5ea95ec",
   "metadata": {},
   "source": [
    "Vemos que para esta herramienta, hay que indicar tanto a la clave como al valor, el resto es igual que con un list comprehension."
   ]
  },
  {
   "cell_type": "markdown",
   "id": "5426158f",
   "metadata": {},
   "source": [
    "Así que, de acuerdo a lo anterior, podemos crear la función **cubo** de la siguiente manera:"
   ]
  },
  {
   "cell_type": "code",
   "execution_count": null,
   "id": "a5b3ab79",
   "metadata": {},
   "outputs": [],
   "source": [
    "def cubo():\n",
    "    dic = {i:i**3 for i in range(1,51) if i % 3 != 0}\n",
    "    return dic"
   ]
  },
  {
   "cell_type": "code",
   "execution_count": null,
   "id": "7d0d08e5",
   "metadata": {},
   "outputs": [],
   "source": [
    "cubo()"
   ]
  },
  {
   "cell_type": "markdown",
   "id": "2bcc86a2",
   "metadata": {},
   "source": [
    "# Función lambda "
   ]
  },
  {
   "cell_type": "markdown",
   "id": "cddc22e5",
   "metadata": {},
   "source": [
    "Las funciones lambda, también conocidas como **funciones anónimas**, son funciones que no tienen un nombre, es decir, no tienen un identificador, más una serie de características, las cuales veremos a continuación."
   ]
  },
  {
   "cell_type": "markdown",
   "id": "7c563d44",
   "metadata": {},
   "source": [
    "La sintaxis es la siguiente:"
   ]
  },
  {
   "cell_type": "code",
   "execution_count": null,
   "id": "9acf510b",
   "metadata": {},
   "outputs": [],
   "source": [
    "identificador = lambda argumentos:expresion"
   ]
  },
  {
   "cell_type": "markdown",
   "id": "518b19da",
   "metadata": {},
   "source": [
    "Entonces, después de la palabra **lambda** indicamos los argumentos que va a recibir la función, seguido de los dos puntos, y sin dejar espacio, continuación con una línea de código que indicará qué hacer con los argumentos."
   ]
  },
  {
   "cell_type": "markdown",
   "id": "9a9dcd1f",
   "metadata": {},
   "source": [
    "**Nota**: la funciones lambda pueden tener tantos argumentos como sea necesario, pero solamente una línea de código."
   ]
  },
  {
   "cell_type": "markdown",
   "id": "f4f4bb5e",
   "metadata": {},
   "source": [
    "Ejemplo: hagamos una función lambda que revise si una palabra es un palíndromo o no:"
   ]
  },
  {
   "cell_type": "code",
   "execution_count": null,
   "id": "701f725a",
   "metadata": {},
   "outputs": [],
   "source": [
    "palindromo = lambda palabra:palabra == palabra[::-1]"
   ]
  },
  {
   "cell_type": "code",
   "execution_count": null,
   "id": "487e1627",
   "metadata": {},
   "outputs": [],
   "source": [
    "palindromo('ana')"
   ]
  },
  {
   "cell_type": "markdown",
   "id": "c8e63040",
   "metadata": {},
   "source": [
    "Así que para este tipo de funciones, no podemos imprimir un texto para de acuerdo al booleano que salga al comparar, ya que para eso se necesita más de una línea de código."
   ]
  },
  {
   "cell_type": "markdown",
   "id": "2502b6cc",
   "metadata": {},
   "source": [
    "Con este ejemplo, queda más claro por qué una función lambda es una función sin nombre, vemso que usamos la palabra **palindromo** como identificador, entonces, la función lambda no tiene un nombre, pero sí le podemos asignar una variable que tenga como referencia a esta función. Dicha variable retornará un objeto tipo función. "
   ]
  },
  {
   "cell_type": "markdown",
   "id": "8d17a48a",
   "metadata": {},
   "source": [
    "# Funciones de orden superior"
   ]
  },
  {
   "cell_type": "markdown",
   "id": "a1c345ce",
   "metadata": {},
   "source": [
    "Una función de orden superior recibe como parámetro a otra función. Pongamos un ejemplo sencillo:"
   ]
  },
  {
   "cell_type": "markdown",
   "id": "63068bad",
   "metadata": {},
   "source": [
    "Definamos una función que recibirá como parámetro a otra función:"
   ]
  },
  {
   "cell_type": "code",
   "execution_count": null,
   "id": "92f75209",
   "metadata": {},
   "outputs": [],
   "source": [
    "def funcion(fun):\n",
    "    fun()"
   ]
  },
  {
   "cell_type": "markdown",
   "id": "8470f0cb",
   "metadata": {},
   "source": [
    "Ahora, construyamos dos funciones sencillas, una que imprima la palabra hola, y otra que imprima la palabra adiós:"
   ]
  },
  {
   "cell_type": "code",
   "execution_count": null,
   "id": "822a3f3b",
   "metadata": {},
   "outputs": [],
   "source": [
    "def saludo():\n",
    "    print('Hola!')"
   ]
  },
  {
   "cell_type": "code",
   "execution_count": null,
   "id": "34e94a1f",
   "metadata": {},
   "outputs": [],
   "source": [
    "def despedida():\n",
    "    print('Adiós!')"
   ]
  },
  {
   "cell_type": "markdown",
   "id": "6d0d7293",
   "metadata": {},
   "source": [
    "Ahora, pongamos como parámetros a estas últimas funciones en **fun**:"
   ]
  },
  {
   "cell_type": "code",
   "execution_count": null,
   "id": "986d7a1c",
   "metadata": {},
   "outputs": [],
   "source": [
    "funcion(saludo)"
   ]
  },
  {
   "cell_type": "code",
   "execution_count": null,
   "id": "02dab10d",
   "metadata": {},
   "outputs": [],
   "source": [
    "funcion(despedida)"
   ]
  },
  {
   "cell_type": "markdown",
   "id": "a23ae5e4",
   "metadata": {},
   "source": [
    "Con esto, acabamos de construir una función de orden superior."
   ]
  },
  {
   "cell_type": "markdown",
   "id": "b6cf409e",
   "metadata": {},
   "source": [
    "Ahora, veremos a tres funciones de orden superior, que son sumamente importantes en programación: **filter**, **map**, y **reduce**."
   ]
  },
  {
   "cell_type": "markdown",
   "id": "73768ac6",
   "metadata": {},
   "source": [
    "### Filter"
   ]
  },
  {
   "cell_type": "markdown",
   "id": "4706e89e",
   "metadata": {},
   "source": [
    "Esta función nos ayuda a filtrar datos de acuerdo a la función que reciba de argumento."
   ]
  },
  {
   "cell_type": "markdown",
   "id": "d40dd71e",
   "metadata": {},
   "source": [
    "Ejemplo, tenemos la siguiente lista:"
   ]
  },
  {
   "cell_type": "code",
   "execution_count": null,
   "id": "c4fab359",
   "metadata": {},
   "outputs": [],
   "source": [
    "lista = [2,34,27,88,73,44,96,101]"
   ]
  },
  {
   "cell_type": "markdown",
   "id": "3c46ddc5",
   "metadata": {},
   "source": [
    "y queremos quedarnos sólo con aquellos elementos que sean impares. Para resolver esto, podemos recurrir a un ciclo for, o a un list comprehension, hagamos esto último:"
   ]
  },
  {
   "cell_type": "code",
   "execution_count": null,
   "id": "1a8c47c5",
   "metadata": {},
   "outputs": [],
   "source": [
    "odd = [i for i in lista if i % 2 != 0]"
   ]
  },
  {
   "cell_type": "code",
   "execution_count": null,
   "id": "3f2d379c",
   "metadata": {},
   "outputs": [],
   "source": [
    "odd"
   ]
  },
  {
   "cell_type": "markdown",
   "id": "f4605745",
   "metadata": {},
   "source": [
    "Hagamos lo mismo con una función filter:"
   ]
  },
  {
   "cell_type": "code",
   "execution_count": null,
   "id": "2a543304",
   "metadata": {},
   "outputs": [],
   "source": [
    "filter(lambda x: x % 2 != 0,lista)"
   ]
  },
  {
   "cell_type": "code",
   "execution_count": null,
   "id": "62470239",
   "metadata": {},
   "outputs": [],
   "source": [
    "odd = list(filter(lambda x: x % 2!= 0, lista))"
   ]
  },
  {
   "cell_type": "code",
   "execution_count": null,
   "id": "b4df2a74",
   "metadata": {},
   "outputs": [],
   "source": [
    "odd"
   ]
  },
  {
   "cell_type": "markdown",
   "id": "ffe3c4c2",
   "metadata": {},
   "source": [
    "Entonces, cómo se debe construir esta función de orden mayor? Primero le damos como parámetro a la función, en este caso, una función lambda que evalúa si un número es impar o no; después, damos como parámetro al objeto sobre el queremos que se aplique filter, que en este caso es nuestra lista."
   ]
  },
  {
   "cell_type": "markdown",
   "id": "19c6af73",
   "metadata": {},
   "source": [
    "Así que en este caso, filter aplicará la función lambda a cada uno de los elementos de la lista, y aquellos que den como resultado False, serán descartados."
   ]
  },
  {
   "cell_type": "markdown",
   "id": "12e977ef",
   "metadata": {},
   "source": [
    "### Map "
   ]
  },
  {
   "cell_type": "markdown",
   "id": "6680b9d3",
   "metadata": {},
   "source": [
    "Con map, aplicamos la función de orden inferior a el objeto deseado. "
   ]
  },
  {
   "cell_type": "markdown",
   "id": "a5267a0f",
   "metadata": {},
   "source": [
    "Usemos la lista anterior como ejemplo, y construyamos una función que calcule el cuadrado de un elemento, después, usemos esta función como parámetro de map, para que así el cuadrado se aplique a cada uno de los elementos de la lista."
   ]
  },
  {
   "cell_type": "markdown",
   "id": "e7eba669",
   "metadata": {},
   "source": [
    "Primero, usemos un list comprehension para que quede más claro:"
   ]
  },
  {
   "cell_type": "code",
   "execution_count": null,
   "id": "37f45965",
   "metadata": {},
   "outputs": [],
   "source": [
    "squares = [i**2 for i in lista]"
   ]
  },
  {
   "cell_type": "code",
   "execution_count": null,
   "id": "34fc129f",
   "metadata": {},
   "outputs": [],
   "source": [
    "squares"
   ]
  },
  {
   "cell_type": "markdown",
   "id": "3b750c31",
   "metadata": {},
   "source": [
    "Y usando map, la sintaxis es la siguiente:"
   ]
  },
  {
   "cell_type": "code",
   "execution_count": null,
   "id": "640df312",
   "metadata": {},
   "outputs": [],
   "source": [
    "map(lambda x:x**2, lista)"
   ]
  },
  {
   "cell_type": "code",
   "execution_count": null,
   "id": "71d04b08",
   "metadata": {},
   "outputs": [],
   "source": [
    "squares = list(map(lambda x:x**2,lista))"
   ]
  },
  {
   "cell_type": "code",
   "execution_count": null,
   "id": "c0b1eeb8",
   "metadata": {},
   "outputs": [],
   "source": [
    "squares"
   ]
  },
  {
   "cell_type": "markdown",
   "id": "90de66c3",
   "metadata": {},
   "source": [
    "### Reduce"
   ]
  },
  {
   "cell_type": "markdown",
   "id": "49756b87",
   "metadata": {},
   "source": [
    "Con esta función, reducimos nuestro objeto a un sólo elemento, mediante la función de orden inferior que se aplique."
   ]
  },
  {
   "cell_type": "markdown",
   "id": "8f6d6db6",
   "metadata": {},
   "source": [
    "Como ejemplo, usemos la siguiente lista:"
   ]
  },
  {
   "cell_type": "code",
   "execution_count": null,
   "id": "19736d2e",
   "metadata": {},
   "outputs": [],
   "source": [
    "lista2 = [2,2,2,2,2]"
   ]
  },
  {
   "cell_type": "markdown",
   "id": "9622d78a",
   "metadata": {},
   "source": [
    "Multipliquemos a cada uno de los elementos dentro de esta lista para quedarnos con un único elemento, que en este caso, al multiplicar 5 veces el dos, obtendremos 32."
   ]
  },
  {
   "cell_type": "markdown",
   "id": "3a58826c",
   "metadata": {},
   "source": [
    "Primero, hagamos esta función con un for:"
   ]
  },
  {
   "cell_type": "code",
   "execution_count": null,
   "id": "8be01245",
   "metadata": {},
   "outputs": [],
   "source": [
    "factor_aux = 1\n",
    "for i in lista2:\n",
    "    factor_aux = factor_aux*i"
   ]
  },
  {
   "cell_type": "code",
   "execution_count": null,
   "id": "2025c97e",
   "metadata": {},
   "outputs": [],
   "source": [
    "factor_aux"
   ]
  },
  {
   "cell_type": "markdown",
   "id": "25cebf94",
   "metadata": {},
   "source": [
    "Para usar reduce, es necesario importar esta función de **functools**:"
   ]
  },
  {
   "cell_type": "code",
   "execution_count": null,
   "id": "deda8a3e",
   "metadata": {},
   "outputs": [],
   "source": [
    "from functools import reduce"
   ]
  },
  {
   "cell_type": "code",
   "execution_count": null,
   "id": "3de90696",
   "metadata": {},
   "outputs": [],
   "source": [
    "factor_aux = reduce(lambda a,b:a*b,lista2)"
   ]
  },
  {
   "cell_type": "code",
   "execution_count": null,
   "id": "d85a5a5c",
   "metadata": {},
   "outputs": [],
   "source": [
    "factor_aux"
   ]
  },
  {
   "cell_type": "markdown",
   "id": "53bfcfbb",
   "metadata": {},
   "source": [
    "Vemos que en este caso se están usando dos parámetros para la función lambda, estos actúan de la siguiente forma:\n",
    "* En la primer iteración, **a** representa al primer elemento de la lista, que en este caso es 2, y **b** representa al elemento que le sigue, también dos. La expresión en esta función lambda es la multiplicación **ab**, que en esta primer iteración dará 4.\n",
    "* En la segunda iteración, **a** representa el valor de la multiplicación anterior, que es 4, y **b** representa al tercer elemento de la lista, 2, entonces ahora la multiplicación valdrá 8, y quedará guardada para la siguiente iteración. Así hasta obtener 32."
   ]
  },
  {
   "cell_type": "markdown",
   "id": "610657e0",
   "metadata": {},
   "source": [
    "## Filtrando datos "
   ]
  },
  {
   "cell_type": "markdown",
   "id": "d2f3994c",
   "metadata": {},
   "source": [
    "Vamos a usar todo lo que hemos aprendido en esta clase para manipular una base de datos que contiene información sobre programadores: su nombre, edad, organización donde trabajan, su puesto y lenguaje que utilizan."
   ]
  },
  {
   "cell_type": "code",
   "execution_count": null,
   "id": "3f3939b4",
   "metadata": {},
   "outputs": [],
   "source": [
    "DATA = [\n",
    "    {\n",
    "        'name': 'Facundo',\n",
    "        'age': 72,\n",
    "        'organization': 'DataCamp',\n",
    "        'position': 'Technical Coach',\n",
    "        'language': 'python',\n",
    "    },\n",
    "    {\n",
    "        'name': 'Luisana',\n",
    "        'age': 33,\n",
    "        'organization': 'Globant',\n",
    "        'position': 'UX Designer',\n",
    "        'language': 'javascript',\n",
    "    },\n",
    "    {\n",
    "        'name': 'Héctor',\n",
    "        'age': 19,\n",
    "        'organization': 'DataCamp',\n",
    "        'position': 'Associate',\n",
    "        'language': 'ruby',\n",
    "    },\n",
    "    {\n",
    "        'name': 'Gabriel',\n",
    "        'age': 20,\n",
    "        'organization': 'DataCamp',\n",
    "        'position': 'Associate',\n",
    "        'language': 'javascript',\n",
    "    },\n",
    "    {\n",
    "        'name': 'Isabella',\n",
    "        'age': 30,\n",
    "        'organization': 'DataCamp',\n",
    "        'position': 'QA Manager',\n",
    "        'language': 'java',\n",
    "    },\n",
    "    {\n",
    "        'name': 'Karo',\n",
    "        'age': 23,\n",
    "        'organization': 'Everis',\n",
    "        'position': 'Backend Developer',\n",
    "        'language': 'python',\n",
    "    },\n",
    "    {\n",
    "        'name': 'Ariel',\n",
    "        'age': 32,\n",
    "        'organization': 'Rappi',\n",
    "        'position': 'Support',\n",
    "        'language': '',\n",
    "    },\n",
    "    {\n",
    "        'name': 'Juan',\n",
    "        'age': 17,\n",
    "        'organization': '',\n",
    "        'position': 'Student',\n",
    "        'language': 'go',\n",
    "    },\n",
    "    {\n",
    "        'name': 'Pablo',\n",
    "        'age': 32,\n",
    "        'organization': 'Master',\n",
    "        'position': 'Human Resources Manager',\n",
    "        'language': 'python',\n",
    "    },\n",
    "    {\n",
    "        'name': 'Patricia',\n",
    "        'age': 56,\n",
    "        'organization': 'Python Organization',\n",
    "        'position': 'Language Maker',\n",
    "        'language': 'python',\n",
    "    },\n",
    "]"
   ]
  },
  {
   "cell_type": "code",
   "execution_count": null,
   "id": "ddbbbcf1",
   "metadata": {},
   "outputs": [],
   "source": [
    "DATA[0]"
   ]
  },
  {
   "cell_type": "markdown",
   "id": "de4ae515",
   "metadata": {},
   "source": [
    "Vamos a utilizar list y dictionary comprehensions, así como funciones de orden superior, para filtrar datos de esta lista. Por ejemplo, vamos a seleccionar a aquellos trabajadores que utilizan python."
   ]
  },
  {
   "cell_type": "markdown",
   "id": "cadae696",
   "metadata": {},
   "source": [
    "Hagamos este primer filtrado con un list comprehension, ya que DATA es una lista de diccionarios, cada elemento de este objeto es un diccionario, por lo tanto, podemos acceder a sus keys y values."
   ]
  },
  {
   "cell_type": "code",
   "execution_count": null,
   "id": "9f78312a",
   "metadata": {},
   "outputs": [],
   "source": [
    "[worker['name'] for worker in DATA if worker['language'] == 'python']"
   ]
  },
  {
   "cell_type": "code",
   "execution_count": null,
   "id": "54ad3505",
   "metadata": {},
   "outputs": [],
   "source": [
    "all_python_devs = [worker['name'] for worker in DATA if worker['language'] == 'python']"
   ]
  },
  {
   "cell_type": "code",
   "execution_count": null,
   "id": "f567bfb1",
   "metadata": {},
   "outputs": [],
   "source": [
    "all_python_devs"
   ]
  },
  {
   "cell_type": "markdown",
   "id": "b7b7e3d3",
   "metadata": {},
   "source": [
    "Podemos usar la misma lógica para filtrar más información, por ejemplo, obtener a todas las personas que trabajan en DataCamp."
   ]
  },
  {
   "cell_type": "markdown",
   "id": "ba731ba9",
   "metadata": {},
   "source": [
    "Ahora, usemos la función de orden superior filter, por ejemplo, para obtener a todas las personas que sean mayores de edad:"
   ]
  },
  {
   "cell_type": "code",
   "execution_count": null,
   "id": "2f2beaeb",
   "metadata": {},
   "outputs": [],
   "source": [
    "filter(lambda worker: worker['age'] >= 18, DATA)"
   ]
  },
  {
   "cell_type": "code",
   "execution_count": null,
   "id": "5bd0021e",
   "metadata": {},
   "outputs": [],
   "source": [
    "adults = list(filter(lambda worker:worker['age'] >= 18, DATA))"
   ]
  },
  {
   "cell_type": "code",
   "execution_count": null,
   "id": "887e0ada",
   "metadata": {},
   "outputs": [],
   "source": [
    "adults"
   ]
  },
  {
   "cell_type": "markdown",
   "id": "97ede6c7",
   "metadata": {},
   "source": [
    "Vemos que, a diferencia de la lista anterior, aquí tengo como resultado una lista de diccionarios. Para tener un resultado similar a **all_python_devs**, es necesario combinar funciones de orden superior, en este caso conviene usar **map**"
   ]
  },
  {
   "cell_type": "code",
   "execution_count": null,
   "id": "09713a65",
   "metadata": {},
   "outputs": [],
   "source": [
    "map(lambda worker:worker['name'], adults)"
   ]
  },
  {
   "cell_type": "code",
   "execution_count": null,
   "id": "82e9ff2d",
   "metadata": {},
   "outputs": [],
   "source": [
    "adults_names = list(map(lambda worker:worker['name'], adults))"
   ]
  },
  {
   "cell_type": "code",
   "execution_count": null,
   "id": "bb31f075",
   "metadata": {},
   "outputs": [],
   "source": [
    "adults_names"
   ]
  },
  {
   "cell_type": "markdown",
   "id": "c191e5ec",
   "metadata": {},
   "source": [
    "En este caso, aprovechamos que en la lista **adults** ya teníamos filtradas a las personas mayores de edad, así que sólo era necesario aplicar a cada uno de los elementos de esta lista, una función que extrajera sólo el nombre."
   ]
  },
  {
   "cell_type": "markdown",
   "id": "b8310ea9",
   "metadata": {},
   "source": [
    "Por último, vamos a aprovechar las funcioens de orden superior para agregar una nueva tupla a cada uno de los diccionarios contenidos en DATA, esta tupla contendrá la clave **old**, que tendrá como valor True si la persona contenida en el diccionario es mayor a 70 años, y contendrá False de no cumplir con esta condición:"
   ]
  },
  {
   "cell_type": "code",
   "execution_count": null,
   "id": "f995c882",
   "metadata": {},
   "outputs": [],
   "source": [
    "map(lambda worker:{**worker,**{'old':worker['age'] > 70}}, DATA)"
   ]
  },
  {
   "cell_type": "code",
   "execution_count": null,
   "id": "b3282722",
   "metadata": {},
   "outputs": [],
   "source": [
    "old_people = list(map(lambda worker:{**worker, **{\"old\": worker[\"age\"] > 70}}, DATA))"
   ]
  },
  {
   "cell_type": "code",
   "execution_count": null,
   "id": "700ff5a4",
   "metadata": {},
   "outputs": [],
   "source": [
    "old_people[1]"
   ]
  },
  {
   "cell_type": "markdown",
   "id": "206d6c96",
   "metadata": {},
   "source": [
    "**Nota**: esta sintaxis es para quienes tengan una versión de python mayor a 3.5 y menor a 3.9, para quienes tengan una versión más reciente, la sintaxis es:"
   ]
  },
  {
   "cell_type": "code",
   "execution_count": null,
   "id": "af3cb7c1",
   "metadata": {},
   "outputs": [],
   "source": [
    "old_people = list(map(lambda worker:worker|{'old':worker['age']>70},DATA))"
   ]
  },
  {
   "cell_type": "code",
   "execution_count": null,
   "id": "94eb2d99",
   "metadata": {},
   "outputs": [],
   "source": []
  }
 ],
 "metadata": {
  "kernelspec": {
   "display_name": "Python 3 (ipykernel)",
   "language": "python",
   "name": "python3"
  },
  "language_info": {
   "codemirror_mode": {
    "name": "ipython",
    "version": 3
   },
   "file_extension": ".py",
   "mimetype": "text/x-python",
   "name": "python",
   "nbconvert_exporter": "python",
   "pygments_lexer": "ipython3",
   "version": "3.8.12"
  }
 },
 "nbformat": 4,
 "nbformat_minor": 5
}
