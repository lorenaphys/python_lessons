{
 "cells": [
  {
   "cell_type": "markdown",
   "id": "659c5860",
   "metadata": {},
   "source": [
    "# Introdcción a la estadística "
   ]
  },
  {
   "cell_type": "markdown",
   "id": "a02afdf6",
   "metadata": {},
   "source": [
    "## Qué es la estadística?"
   ]
  },
  {
   "cell_type": "markdown",
   "id": "6f368d63",
   "metadata": {},
   "source": [
    "Estadística es la disciplina que se refiere a colección, organización, analisis, interpretación y representación de datos. \n",
    "\n",
    "En la aplicación de la estadística sobre un problema social, industrial, científico, es común comenzar con una **población estadística** o **modelo estadístico**, una población puede ser diversos grupos de personas u objetos, por ejemplo, \"los habitantes de un país\" o \"cada átomo que compone un cristal\". La estadística trabaja con cada aspecto de los datos, incluyendo la planeación de la colección de datos, en términos del diseño de encuestas y experimentos."
   ]
  },
  {
   "cell_type": "markdown",
   "id": "865515b3",
   "metadata": {},
   "source": [
    "## Tipos de estadística"
   ]
  },
  {
   "cell_type": "markdown",
   "id": "dcd5bd59",
   "metadata": {},
   "source": [
    "Hay dos ramas principales de la estadística: la **descriptiva** y la **inferencial**. La estadística descriptiva se enfoca en describir y resumir los datos que se tienen a la mano, por ejemplo, podemos preguntar a nuestros compañeros de clase en qué carrera están, podemos ver que 50% son físicos biomédicos, 45% son biólogos y 5% son físicos, eso es la estadística descriptiva. La estadística inferencial usa los datos que se tienen a la mano, llamado _muestra de los datos_, para inferir las propiedades subyacentes de una población más grande. Podemos usar estadística inferencial para encontrar qué porcentaje de los estudiantes en la facultad de ciencias estudia física biomédica, basados en nuestra muestra de datos. "
   ]
  },
  {
   "cell_type": "markdown",
   "id": "f981253a",
   "metadata": {},
   "source": [
    "Hay dos principales tipos de datos: numéricos o cuantitativos, que son los valores numéricos; y los datos categóricos o cualitativos, los cuales se conforman de aquellos valores que pertenecen a distintos grupos."
   ]
  },
  {
   "cell_type": "markdown",
   "id": "24998bd8",
   "metadata": {},
   "source": [
    "## Tipos de datos "
   ]
  },
  {
   "cell_type": "markdown",
   "id": "bf739aa9",
   "metadata": {},
   "source": [
    "Hay dos principales tipos de datos: numéricos o cuantitativos, que son los valores numéricos; y los datos categóricos o cualitativos, los cuales se conforman de aquellos valores que pertenecen a distintos grupos."
   ]
  },
  {
   "cell_type": "markdown",
   "id": "f0809295",
   "metadata": {},
   "source": [
    "* **Datos numéricos**:\n",
    "    * Continuos\n",
    "    * Discretos\n",
    "* **Datos categóricos**:\n",
    "    * Ordinales\n",
    "    * Nominales"
   ]
  },
  {
   "cell_type": "markdown",
   "id": "283e9e96",
   "metadata": {},
   "source": [
    "| patient_id  | age  | genre  | weight_kg |\n",
    "| ------------ | ------------ | ------------ | ------------ |\n",
    "| 1  | 24  | F |  56.3 |\n",
    "| 2  |  43  |  M  | 85.6  |"
   ]
  },
  {
   "cell_type": "markdown",
   "id": "874f1f88",
   "metadata": {},
   "source": [
    "# Representación gráfica de los datos"
   ]
  },
  {
   "cell_type": "markdown",
   "id": "5ca90c98",
   "metadata": {},
   "source": [
    "La tabla anterior nos muestra que un primer acercamiento a los datos es en su forma tabular, con esto comenzamos a darnos una idea de la información que tenemos. Ahora, veremos cómo mostrar dichos datos en su representación gráfica y cómo interpretarlo."
   ]
  },
  {
   "cell_type": "markdown",
   "id": "6ebe5149",
   "metadata": {},
   "source": [
    "## Gráfica lineal"
   ]
  },
  {
   "cell_type": "markdown",
   "id": "3526e7ed",
   "metadata": {},
   "source": [
    "Una gráfica lineal puede ser usar para mostrar el valor de una variable sobre el tiempo. Los valores de la variable están dados en el eje vertical, y el tiempo en el eje horizontal."
   ]
  },
  {
   "cell_type": "markdown",
   "id": "02dc5e2a",
   "metadata": {},
   "source": [
    "En python, se utiliza el paquete **matplotlib.pyplot** para crear gráficas."
   ]
  },
  {
   "cell_type": "code",
   "execution_count": null,
   "id": "42f1cd19",
   "metadata": {},
   "outputs": [],
   "source": [
    "import pandas as pd"
   ]
  },
  {
   "cell_type": "code",
   "execution_count": null,
   "id": "408947fb",
   "metadata": {},
   "outputs": [],
   "source": [
    "climate_change = pd.read_csv('/home/lorena/Escritorio/Fossion/Trabajo_durante_doctorado/Proyecto_con_Luis_Mnez/Fisica_Biologica_2022-1/Examen/climate_change.csv')"
   ]
  },
  {
   "cell_type": "code",
   "execution_count": null,
   "id": "1cd4279b",
   "metadata": {},
   "outputs": [],
   "source": [
    "climate_change.tail()"
   ]
  },
  {
   "cell_type": "code",
   "execution_count": null,
   "id": "cebacbab",
   "metadata": {},
   "outputs": [],
   "source": [
    "import matplotlib.pyplot as plt"
   ]
  },
  {
   "cell_type": "code",
   "execution_count": null,
   "id": "ca329550",
   "metadata": {
    "scrolled": true
   },
   "outputs": [],
   "source": [
    "plt.plot(climate_change.co2)\n",
    "plt.show()"
   ]
  },
  {
   "cell_type": "markdown",
   "id": "ae00cb86",
   "metadata": {},
   "source": [
    "Podemos personalizar la gráfica, agregando por ejemplo títulos a los ejes y cambiando el color."
   ]
  },
  {
   "cell_type": "code",
   "execution_count": null,
   "id": "68f11560",
   "metadata": {},
   "outputs": [],
   "source": [
    "plt.plot(climate_change.co2, color = 'green') # indicando el color\n",
    "plt.xlabel('Tiempo') # título al eje x\n",
    "plt.ylabel('Niveles de $CO^2$') # título al eje y\n",
    "plt.show()"
   ]
  },
  {
   "cell_type": "markdown",
   "id": "425cc033",
   "metadata": {},
   "source": [
    "Podemos poner en diferentes marcos las gráficas lineales de las dos columnas, una debajo de la otra, con la función **plt.subplot()**, dentro de esta función debemos colocar el número de filas y columnas que queremos, y el número de la gráfica que se esta manipulando. "
   ]
  },
  {
   "cell_type": "markdown",
   "id": "e6961af8",
   "metadata": {},
   "source": [
    "Así por ejemplo si queremos poner una gráfica debajo de la otra, necesitamos indicar que tenemos dos filas y una columna."
   ]
  },
  {
   "cell_type": "code",
   "execution_count": null,
   "id": "7cb9d720",
   "metadata": {},
   "outputs": [],
   "source": [
    "plt.subplot(211) # Primer grafica\n",
    "plt.plot(climate_change.co2, color = 'blue')\n",
    "#plt.xlabel('Tiempo')\n",
    "plt.ylabel('Niveles de $CO^2$')\n",
    "\n",
    "plt.subplot(212) # Segunda grafica\n",
    "plt.plot(climate_change.relative_temp, color = 'red')\n",
    "plt.xlabel('Tiempo')\n",
    "plt.ylabel('rel_temp (°C)')\n",
    "plt.show()"
   ]
  },
  {
   "cell_type": "markdown",
   "id": "dccc9474",
   "metadata": {},
   "source": [
    "Ya que las dos gráficas tiene el mismo eje x, podemos hacer que comparta el eje para que no se repita, mediante la siguiente sintaxis:"
   ]
  },
  {
   "cell_type": "code",
   "execution_count": null,
   "id": "04be42b4",
   "metadata": {},
   "outputs": [],
   "source": [
    "ax1 = plt.subplot(211) # Le asignamos una variable a la primer grafica\n",
    "plt.plot(climate_change.co2, color = 'blue')\n",
    "plt.ylabel('Niveles de $CO^2$')\n",
    "plt.tick_params('x', labelbottom=False)\n",
    "\n",
    "ax2 = plt.subplot(212, sharex = ax1) # Se indica que la segunda gráfica comparte el eje\n",
    "# de la primer gráfica\n",
    "plt.plot(climate_change.relative_temp, color = 'red')\n",
    "plt.ylabel('rel_temp (°C)')\n",
    "plt.xlabel('Tiempo')\n",
    "plt.show()"
   ]
  },
  {
   "cell_type": "markdown",
   "id": "f86f3f8f",
   "metadata": {},
   "source": [
    "También podemos poner en un mismo marco las gráficas de los niveles de $CO^2$ y de la temperatura relativa:"
   ]
  },
  {
   "cell_type": "code",
   "execution_count": null,
   "id": "f9ea07ee",
   "metadata": {},
   "outputs": [],
   "source": [
    "plt.plot(climate_change.co2, color = 'blue')\n",
    "plt.plot(climate_change.relative_temp, color = 'red')\n",
    "plt.xlabel('Tiempo')\n",
    "plt.show()"
   ]
  },
  {
   "cell_type": "markdown",
   "id": "43973fba",
   "metadata": {},
   "source": [
    "Incluso podemos agregar leyendas:"
   ]
  },
  {
   "cell_type": "code",
   "execution_count": null,
   "id": "41f7160f",
   "metadata": {},
   "outputs": [],
   "source": [
    "plt.plot(climate_change.co2, color = 'blue', label = '$CO^2$')\n",
    "plt.plot(climate_change.relative_temp, color = 'red', label = 'Temperatura relativa')\n",
    "plt.xlabel('Tiempo')\n",
    "plt.legend()\n",
    "plt.show()"
   ]
  },
  {
   "cell_type": "markdown",
   "id": "4e85f8c4",
   "metadata": {},
   "source": [
    "## Gráficas de barras "
   ]
  },
  {
   "cell_type": "markdown",
   "id": "fab16bc2",
   "metadata": {},
   "source": [
    "Estas gráficas nos ayudan a visualizar las tablas. Veamos la sintaxis para crear una gráfica de este tipo:"
   ]
  },
  {
   "cell_type": "code",
   "execution_count": null,
   "id": "eadfb84b",
   "metadata": {},
   "outputs": [],
   "source": [
    "import numpy as np"
   ]
  },
  {
   "cell_type": "code",
   "execution_count": null,
   "id": "9d2f8b0c",
   "metadata": {},
   "outputs": [],
   "source": [
    "arr1 = [1,2,3,4,5]\n",
    "#ind = np.arange(len(arr1))\n",
    "ind = range(len(arr1))\n",
    "plt.bar(ind, arr1)\n",
    "plt.show()"
   ]
  },
  {
   "cell_type": "markdown",
   "id": "34cf72fc",
   "metadata": {},
   "source": [
    "También podemos posicioner las barras en el eje vertical:"
   ]
  },
  {
   "cell_type": "code",
   "execution_count": null,
   "id": "0b5b9472",
   "metadata": {},
   "outputs": [],
   "source": [
    "obj = ('Python', 'C++', 'Java', 'Perl', 'Scala', 'Lisp')\n",
    "y_pos = np.arange(len(obj))\n",
    "uso = [10,8,6,4,2,1]\n",
    "\n",
    "plt.barh(y_pos, uso, align = 'center', alpha = 0.5)\n",
    "plt.yticks(y_pos, obj)\n",
    "plt.xlabel('Uso')\n",
    "plt.title('Uso de lenguajes de programación')\n",
    "\n",
    "plt.show()"
   ]
  },
  {
   "cell_type": "markdown",
   "id": "78f4fdd6",
   "metadata": {},
   "source": [
    "O crear gráficas segmentadas:"
   ]
  },
  {
   "cell_type": "code",
   "execution_count": null,
   "id": "c61177f9",
   "metadata": {},
   "outputs": [],
   "source": [
    "x = ['A', 'B', 'C', 'D']\n",
    "y1 = [100, 120, 110, 130]\n",
    "y2 = [120, 125, 115, 125]\n",
    " \n",
    "plt.bar(x, y1, color = 'blue')\n",
    "plt.bar(x, y2, bottom = y1, color = 'red')\n",
    "plt.show()"
   ]
  },
  {
   "cell_type": "code",
   "execution_count": null,
   "id": "d35ff8c4",
   "metadata": {},
   "outputs": [],
   "source": []
  }
 ],
 "metadata": {
  "kernelspec": {
   "display_name": "Python 3 (ipykernel)",
   "language": "python",
   "name": "python3"
  },
  "language_info": {
   "codemirror_mode": {
    "name": "ipython",
    "version": 3
   },
   "file_extension": ".py",
   "mimetype": "text/x-python",
   "name": "python",
   "nbconvert_exporter": "python",
   "pygments_lexer": "ipython3",
   "version": "3.8.12"
  }
 },
 "nbformat": 4,
 "nbformat_minor": 5
}
